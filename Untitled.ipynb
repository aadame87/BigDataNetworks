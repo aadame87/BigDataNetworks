{
 "cells": [
  {
   "cell_type": "code",
   "execution_count": 1,
   "metadata": {
    "collapsed": true
   },
   "outputs": [],
   "source": [
    "#import dataset\n",
    "import csv\n",
    "with open('Persons.csv', 'rb') as f:\n",
    "    reader = csv.reader(f)\n",
    "    nodes = list(reader)\n",
    "    \n",
    "with open('EmailReceivers.csv', 'rb') as f:\n",
    "    reader = csv.reader(f)\n",
    "    edges = list(reader)\n",
    "\n",
    "num_of_people=len(nodes)\n",
    "num_of_emails=7945\n",
    "\n",
    "#CLEAN UP DATA\n",
    "person_nodes=['']*len(nodes)\n",
    "count=0\n",
    "for n in nodes:\n",
    "    person_nodes[count]=nodes[count][1]\n",
    "    count+=1\n",
    "    \n",
    "#generate edge data\n",
    "count=0\n",
    "email_nodes=[0]*len(edges)\n",
    "elist=[]*len(edges)\n",
    "tup=()\n",
    "for e in edges:\n",
    "    email_nodes[count]=edges[count][2]\n",
    "    tup=(int(edges[count][1])+num_of_people,int(edges[count][2]))\n",
    "    elist.append(tup)\n",
    "    count+=1"
   ]
  },
  {
   "cell_type": "markdown",
   "metadata": {
    "collapsed": true
   },
   "source": [
    "<h1> Create Networkx graph from data "
   ]
  },
  {
   "cell_type": "code",
   "execution_count": 6,
   "metadata": {},
   "outputs": [
    {
     "name": "stdout",
     "output_type": "stream",
     "text": [
      "Name: \n",
      "Type: Graph\n",
      "Number of nodes: 8459\n",
      "Number of edges: 9206\n",
      "Average degree:   2.1766\n"
     ]
    }
   ],
   "source": [
    "import networkx as nx\n",
    "G=nx.Graph()\n",
    "for i in range(num_of_people+num_of_emails):\n",
    "    G.add_node(i)\n",
    "\n",
    "G.add_edges_from(elist)\n",
    "#nx.write_gml(G,\"test.gml\")\n",
    "print nx.info(G)"
   ]
  },
  {
   "cell_type": "code",
   "execution_count": 3,
   "metadata": {
    "collapsed": true
   },
   "outputs": [],
   "source": [
    "#code to add Email alias to nodes\n",
    "mapping={}\n",
    "mapping[0]='0'\n",
    "for num in range(len(nodes)):\n",
    "        mapping[num+1]=person_nodes[num]"
   ]
  },
  {
   "cell_type": "code",
   "execution_count": 4,
   "metadata": {
    "collapsed": true
   },
   "outputs": [],
   "source": [
    "#H=nx.relabel_nodes(G,dict(zip(G.nodes(),person_nodes)))\n",
    "H=nx.relabel_nodes(G,mapping)\n",
    "nx.write_gml(G,\"final.gml\")"
   ]
  },
  {
   "cell_type": "code",
   "execution_count": 5,
   "metadata": {},
   "outputs": [
    {
     "name": "stdout",
     "output_type": "stream",
     "text": [
      "Name: \n",
      "Type: Graph\n",
      "Number of nodes: 7834\n",
      "Number of edges: 9009\n",
      "Average degree:   2.3000\n"
     ]
    }
   ],
   "source": [
    "#get largest connected component for analysis\n",
    "connected=nx.is_connected(G)\n",
    "graphs = list(nx.connected_component_subgraphs(G, copy=True))\n",
    "# the connected component with the most nodes\n",
    "graph_max = sorted([(len(gn.nodes()), gn) for gn in graphs], key=lambda x: x[0], reverse=True)[0][1]\n",
    "print nx.info(graph_max)\n",
    "G2=graph_max"
   ]
  },
  {
   "cell_type": "markdown",
   "metadata": {},
   "source": [
    "<h1> Community Detection"
   ]
  },
  {
   "cell_type": "code",
   "execution_count": 8,
   "metadata": {
    "collapsed": true
   },
   "outputs": [],
   "source": [
    "import community\n",
    "part=community.best_partition(G2)\n",
    "nx.set_node_attributes(G2, part,\"com\")\n",
    "nx.write_gml(G2,\"finalg2.gml\")"
   ]
  },
  {
   "cell_type": "code",
   "execution_count": 9,
   "metadata": {},
   "outputs": [
    {
     "data": {
      "image/png": "[encoded data removed]",
      "text/plain": [
       "<matplotlib.figure.Figure at 0x7f120e7b0490>"
      ]
     },
     "metadata": {},
     "output_type": "display_data"
    },
    {
     "name": "stdout",
     "output_type": "stream",
     "text": [
      "[(0, 170), (1, 94), (2, 134), (3, 16), (4, 474), (5, 2), (6, 63), (7, 53), (8, 9), (9, 24), (10, 5004), (11, 760), (12, 468), (13, 315), (14, 2), (15, 5), (16, 10), (17, 37), (18, 4), (19, 5), (20, 8), (21, 58), (22, 7), (23, 3), (24, 2), (25, 2), (26, 2), (27, 2), (28, 2), (29, 3), (30, 3), (31, 2), (32, 2), (33, 2), (34, 2), (35, 2), (36, 2), (37, 2), (38, 2), (39, 2), (40, 2), (41, 2), (42, 2), (43, 2), (44, 2), (45, 3), (46, 2), (47, 2), (48, 2), (49, 2), (50, 2), (51, 2), (52, 2), (53, 2), (54, 8), (55, 2), (56, 2), (57, 4), (58, 2), (59, 2), (60, 2), (61, 2), (62, 2), (63, 2), (64, 5), (65, 3), (66, 4), (67, 2), (68, 2), (69, 2)]\n"
     ]
    }
   ],
   "source": [
    "import matplotlib.pyplot as plt\n",
    "com={}\n",
    "for p in range(len(part.items())):\n",
    "    c=part.items()[p][1]\n",
    "    if c not in com:\n",
    "        com[c]=0\n",
    "    com[c]+=1\n",
    "\n",
    "items=sorted(com.items())\n",
    "fig=plt.figure()\n",
    "ax=fig.add_subplot(111)\n",
    "ax.bar([k for (k,v) in items], [v for (k,v) in items],1.0,color='b')\n",
    "#ax.set_xscale('log')\n",
    "ax.set_yscale('log')\n",
    "plt.ylabel('Count')\n",
    "plt.xlabel('Communities')\n",
    "plt.savefig('com.png', bbox_inches='tight')\n",
    "plt.show()\n",
    "print items"
   ]
  },
  {
   "cell_type": "code",
   "execution_count": 13,
   "metadata": {},
   "outputs": [
    {
     "data": {
      "text/plain": [
       "[(0, 170),\n",
       " (1, 94),\n",
       " (2, 134),\n",
       " (3, 16),\n",
       " (4, 474),\n",
       " (5, 2),\n",
       " (6, 63),\n",
       " (7, 53),\n",
       " (8, 9),\n",
       " (9, 24),\n",
       " (10, 5004),\n",
       " (11, 760),\n",
       " (12, 468),\n",
       " (13, 315),\n",
       " (14, 2),\n",
       " (15, 5),\n",
       " (16, 10),\n",
       " (17, 37),\n",
       " (18, 4),\n",
       " (19, 5),\n",
       " (20, 8),\n",
       " (21, 58),\n",
       " (22, 7),\n",
       " (23, 3),\n",
       " (24, 2),\n",
       " (25, 2),\n",
       " (26, 2),\n",
       " (27, 2),\n",
       " (28, 2),\n",
       " (29, 3),\n",
       " (30, 3),\n",
       " (31, 2),\n",
       " (32, 2),\n",
       " (33, 2),\n",
       " (34, 2),\n",
       " (35, 2),\n",
       " (36, 2),\n",
       " (37, 2),\n",
       " (38, 2),\n",
       " (39, 2),\n",
       " (40, 2),\n",
       " (41, 2),\n",
       " (42, 2),\n",
       " (43, 2),\n",
       " (44, 2),\n",
       " (45, 3),\n",
       " (46, 2),\n",
       " (47, 2),\n",
       " (48, 2),\n",
       " (49, 2),\n",
       " (50, 2),\n",
       " (51, 2),\n",
       " (52, 2),\n",
       " (53, 2),\n",
       " (54, 8),\n",
       " (55, 2),\n",
       " (56, 2),\n",
       " (57, 4),\n",
       " (58, 2),\n",
       " (59, 2),\n",
       " (60, 2),\n",
       " (61, 2),\n",
       " (62, 2),\n",
       " (63, 2),\n",
       " (64, 5),\n",
       " (65, 3),\n",
       " (66, 4),\n",
       " (67, 2),\n",
       " (68, 2),\n",
       " (69, 2)]"
      ]
     },
     "execution_count": 13,
     "metadata": {},
     "output_type": "execute_result"
    }
   ],
   "source": [
    "sorted(items)"
   ]
  },
  {
   "cell_type": "markdown",
   "metadata": {},
   "source": [
    "<h1> Page Rank Analysis"
   ]
  },
  {
   "cell_type": "code",
   "execution_count": 12,
   "metadata": {},
   "outputs": [
    {
     "data": {
      "image/png": "[encoded data removed]",
      "text/plain": [
       "<matplotlib.figure.Figure at 0x7f8de513d450>"
      ]
     },
     "metadata": {},
     "output_type": "display_data"
    }
   ],
   "source": [
    "import matplotlib.pyplot as plt\n",
    "\n",
    "pr=nx.pagerank(G2) #calc page rank value of each node in graph\n",
    "lists = sorted(pr.items())\n",
    "x, y = zip(*lists)\n",
    "#plt.plot(range(len(x)),y,'g')\n",
    "plt.plot(y,'g')\n",
    "plt.xscale('log')\n",
    "#plt.yscale('log')\n",
    "plt.ylabel('Page Rank')\n",
    "plt.xlabel('Nodes')\n",
    "plt.savefig('pr.png', bbox_inches='tight')\n",
    "plt.show()"
   ]
  },
  {
   "cell_type": "code",
   "execution_count": 24,
   "metadata": {},
   "outputs": [
    {
     "data": {
      "image/png": "[encoded data removed]",
      "text/plain": [
       "<matplotlib.figure.Figure at 0x7f8e0052f6d0>"
      ]
     },
     "metadata": {},
     "output_type": "display_data"
    }
   ],
   "source": [
    "degs = {}\n",
    "for n in G2.nodes():\n",
    "    deg = G2.degree(n) \n",
    "    if deg not in degs:\n",
    "        degs[deg] = 0 \n",
    "    degs[deg] += 1\n",
    "\n",
    "items = sorted(degs.items())\n",
    "fig = plt.figure()\n",
    "ax = fig.add_subplot(111)\n",
    "ax.plot([k for (k,v) in items], [v for (k,v) in items],'r') \n",
    "ax.set_xscale('log') \n",
    "ax.set_yscale('log')\n",
    "plt.ylabel('Degree')\n",
    "plt.xlabel('Nodes')\n",
    "plt.title(\"Degree Distribution\")\n",
    "\n",
    "#ab = fig.add_subplot(212)\n",
    "#ab.plot([k for (k,v) in items], [v for (k,v) in items],'r') \n",
    "#ab.set_xscale('log') \n",
    "#ab.set_yscale('log')\n",
    "#plt.ylabel('Degree')\n",
    "#plt.xlabel('Nodes')\n",
    "#plt.title(\"Degree Distribution\")\n",
    "#fig.tight_layout()\n",
    "fig.savefig(\"degree_distribution.png\")\n",
    "plt.show()"
   ]
  },
  {
   "cell_type": "code",
   "execution_count": null,
   "metadata": {
    "collapsed": true
   },
   "outputs": [],
   "source": []
  },
  {
   "cell_type": "code",
   "execution_count": null,
   "metadata": {
    "collapsed": true
   },
   "outputs": [],
   "source": []
  }
 ],
 "metadata": {
  "kernelspec": {
   "display_name": "Python 2",
   "language": "python",
   "name": "python2"
  },
  "language_info": {
   "codemirror_mode": {
    "name": "ipython",
    "version": 2
   },
   "file_extension": ".py",
   "mimetype": "text/x-python",
   "name": "python",
   "nbconvert_exporter": "python",
   "pygments_lexer": "ipython2",
   "version": "2.7.13"
  }
 },
 "nbformat": 4,
 "nbformat_minor": 2
}
