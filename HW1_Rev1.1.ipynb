{
 "cells": [
  {
   "cell_type": "markdown",
   "metadata": {},
   "source": [
    "# Homework #1\n",
    "## In this homework you are going to get familiar with basics of NetworkX and Gephi for analysing and visualizing networks. Make sure your submitted code is executable without any errors. Also, make sure to include all your output files in your submission. \n",
    "\n",
    "## Task 1: NetworkX\n",
    "### NetworkX is a Python library for the analysis of networks. With NetworkX you can create, import, and manipulate graphs. Additionally, you can calculate basic properties of these graphs with its built-in functions. Unfortunately, NetworkX is not very powerful for visualizing large graphs which we are going to work with most of the time. For this reason, we are going to use a software called Gephi. In this homework, you are going to do some basic analysis on some graphs which you can download using the following code and then store the results in a format which is readable by Gephi. You then use Gephi (on your own computer) to visualize the results.  \n",
    "\n",
    "### You can download Gephi from the following web page:\n",
    "### https://gephi.org/users/download\n",
    "\n",
    "###  You can also learn the basics of NetworkX library and Gephi by looking at the following pages:\n",
    "### Some useful links to get familiar with NetworkX:\n",
    "### NetworkX Documentation: https://networkx.github.io/documentation/stable/\n",
    "### https://vimeo.com/124354692\n",
    "### https://www.cl.cam.ac.uk/~cm542/teaching/2010/stna-pdfs/stna-lecture8.pdf\n",
    "### Some useful links to get familiar with Gephi:\n",
    "### https://gephi.org/users/tutorial-visualization/\n",
    "### https://www.youtube.com/watch?v=FLiv3xnEepw\n",
    "\n",
    "### In the whole homework you can use any function from the NetworkX  library that facilitates your task."
   ]
  },
  {
   "cell_type": "markdown",
   "metadata": {},
   "source": [
    "### Run the following cell to import the libraries that we are going to use in this homework:"
   ]
  },
  {
   "cell_type": "code",
   "execution_count": 4,
   "metadata": {},
   "outputs": [
    {
     "name": "stdout",
     "output_type": "stream",
     "text": [
      "Populating the interactive namespace from numpy and matplotlib\n",
      "CPU times: user 2.53 s, sys: 616 ms, total: 3.14 s\n",
      "Wall time: 4.56 s\n"
     ]
    }
   ],
   "source": [
    "%%time\n",
    "#import useful packages, all of them are important but not necessarily used in this code\n",
    "#enable inline plotting in Python Notebook\n",
    "#supress warnings\n",
    "\n",
    "%pylab inline\n",
    "import networkx as nx\n",
    "import numpy as np\n",
    "import matplotlib\n",
    "import scipy\n",
    "import warnings\n",
    "warnings.filterwarnings('ignore')\n",
    "import time"
   ]
  },
  {
   "cell_type": "markdown",
   "metadata": {},
   "source": [
    "### Run the following cell to download the raw data for the networks (Facebook, Enron Emails, High Energy Physics Citations, and Erdos) we are going to work with:"
   ]
  },
  {
   "cell_type": "code",
   "execution_count": 5,
   "metadata": {},
   "outputs": [
    {
     "name": "stdout",
     "output_type": "stream",
     "text": [
      "CPU times: user 100 ms, sys: 28 ms, total: 128 ms\n",
      "Wall time: 2.97 s\n"
     ]
    }
   ],
   "source": [
    "%%time\n",
    "# Creating directories for network files:\n",
    "import os, errno\n",
    "try:\n",
    "    os.makedirs(\"data\")\n",
    "except OSError as e:\n",
    "    if e.errno != errno.EEXIST:\n",
    "        raise\n",
    "try:\n",
    "    os.makedirs(\"data/facebook\")\n",
    "except OSError as e:\n",
    "    if e.errno != errno.EEXIST:\n",
    "        raise\n",
    "        \n",
    "try:\n",
    "    os.makedirs(\"data/enron\")\n",
    "except OSError as e:\n",
    "    if e.errno != errno.EEXIST:\n",
    "        raise\n",
    "try:\n",
    "    os.makedirs(\"data/citNet\")\n",
    "except OSError as e:\n",
    "    if e.errno != errno.EEXIST:\n",
    "        raise\n",
    "        \n",
    "try:\n",
    "    os.makedirs(\"data/erdos\")\n",
    "except OSError as e:\n",
    "    if e.errno != errno.EEXIST:\n",
    "        raise\n",
    "\n",
    "\n",
    "# Download the network files:\n",
    "import urllib\n",
    "\n",
    "## Facebook Network:\n",
    "urllib.urlretrieve(\"https://snap.stanford.edu/data/facebook_combined.txt.gz\",\"data/facebook/facebook_combined.txt.gz\")\n",
    "\n",
    "## Citation Network:\n",
    "urllib.urlretrieve(\"http://snap.stanford.edu/data/cit-HepTh.txt.gz\", \"data/citNet/cit-HepTh.txt.gz\")\n",
    "urllib.urlretrieve(\"http://snap.stanford.edu/data/cit-HepTh-dates.txt.gz\", \"data/citNet/cit-HepTh-dates.txt.gz\")\n",
    "urllib.urlretrieve(\"http://snap.stanford.edu/data/cit-HepTh-abstracts.tar.gz\", \"data/citNet/cit-HepTh-abstracts.tar.gz\")\n",
    "\n",
    "\n",
    "## Enron Network:\n",
    "urllib.urlretrieve(\"https://snap.stanford.edu/data/email-Enron.txt.gz\",\"data/enron/email-Enron.txt.gz\")\n",
    "\n",
    "## Erdos Network:\n",
    "urllib.urlretrieve(\"https://files.oakland.edu/users/grossman/enp/Erdos1.html\", \"data/erdos/Erdos1.html\")"
   ]
  },
  {
   "cell_type": "markdown",
   "metadata": {},
   "source": [
    "### Run the following cell to unzip and store the Facebook dateset in a .txt file which is readable by NetworkX:"
   ]
  },
  {
   "cell_type": "code",
   "execution_count": 6,
   "metadata": {},
   "outputs": [
    {
     "name": "stdout",
     "output_type": "stream",
     "text": [
      "FB No. of nodes are= 4039\n",
      "FB No. of edges are= 88234\n",
      "CitNET No. of nodes are= 27770\n",
      "CitNET No. of edges are= 352324\n",
      "Enron No. of nodes are= 36692\n",
      "Enron No. of edges are= 183831\n",
      "CPU times: user 4.88 s, sys: 124 ms, total: 5 s\n",
      "Wall time: 5.46 s\n"
     ]
    }
   ],
   "source": [
    "%%time\n",
    "# The following code simply converts the data file from ZIP to TXT so that NetworkX can read it\n",
    "\n",
    "import gzip\n",
    "\n",
    "inF = gzip.GzipFile(\"data/facebook/facebook_combined.txt.gz\", 'rb')\n",
    "s = inF.read()\n",
    "inF.close()\n",
    "\n",
    "outF = file(\"data/facebook/facebook_combined.txt\", 'wb')\n",
    "outF.write(s)\n",
    "outF.close()\n",
    "\n",
    "#load the network after converting into text file\n",
    "\n",
    "file_name=\"data/facebook/facebook_combined.txt\"\n",
    "\n",
    "#convert the information in the text file into a graph, find no. of edges & nodes in the graph\n",
    "\n",
    "g1=nx.read_edgelist(file_name,create_using=nx.Graph(),nodetype=int)\n",
    "node, edge=g1.order(),g1.size()\n",
    "print \"FB No. of nodes are=\",node\n",
    "print \"FB No. of edges are=\",edge\n",
    "\n",
    "#citation network\n",
    "inF = gzip.GzipFile(\"data/citNet/cit-HepTh.txt.gz\", 'rb')\n",
    "s = inF.read()\n",
    "inF.close()\n",
    "\n",
    "outF = file(\"data/citNet/cit-HepTh.txt\", 'wb')\n",
    "outF.write(s)\n",
    "outF.close()\n",
    "\n",
    "'''\n",
    "inF = gzip.GzipFile(\"data/citNet/cit-HepTh.txt.gz\", 'rb')\n",
    "s = inF.read()\n",
    "inF.close()\n",
    "\n",
    "outF = file(\"data/citNet/cit-HepTh.txt\", 'wb')\n",
    "outF.write(s)\n",
    "outF.close()\n",
    "'''\n",
    "\n",
    "#load the network after converting into text file\n",
    "\n",
    "file_name=\"data/citNet/cit-HepTh.txt\"\n",
    "\n",
    "#convert the information in the text file into a graph, find no. of edges & nodes in the graph\n",
    "\n",
    "g2=nx.read_edgelist(file_name,create_using=nx.Graph(),nodetype=int)\n",
    "node, edge=g2.order(),g2.size()\n",
    "print \"CitNET No. of nodes are=\",node\n",
    "print \"CitNET No. of edges are=\",edge\n",
    "\n",
    "\n",
    "#enron network\n",
    "inF = gzip.GzipFile(\"data/enron/email-Enron.txt.gz\", 'rb')\n",
    "s = inF.read()\n",
    "inF.close()\n",
    "\n",
    "outF = file(\"data/enron/email-Enron.txt\", 'wb')\n",
    "outF.write(s)\n",
    "outF.close()\n",
    "\n",
    "#load the network after converting into text file\n",
    "\n",
    "file_name=\"data/enron/email-Enron.txt\"\n",
    "\n",
    "#convert the information in the text file into a graph, find no. of edges & nodes in the graph\n",
    "\n",
    "g3=nx.read_edgelist(file_name,create_using=nx.Graph(),nodetype=int)\n",
    "node, edge=g3.order(),g3.size()\n",
    "print \"Enron No. of nodes are=\",node\n",
    "print \"Enron No. of edges are=\",edge"
   ]
  },
  {
   "cell_type": "markdown",
   "metadata": {},
   "source": [
    "### Write a code that plots the degree distribution of the above graph. (Make sure you do not confuse degree distribution with degree sequence!)"
   ]
  },
  {
   "cell_type": "code",
   "execution_count": 7,
   "metadata": {},
   "outputs": [
    {
     "name": "stdout",
     "output_type": "stream",
     "text": [
      "figure saved\n",
      "figure saved2\n",
      "figure saved3\n",
      "figure saved4\n"
     ]
    },
    {
     "data": {
      "image/png": "[encoded data removed]",
      "text/plain": [
       "<matplotlib.figure.Figure at 0x7fa1727bd750>"
      ]
     },
     "metadata": {},
     "output_type": "display_data"
    },
    {
     "data": {
      "image/png": "[encoded data removed]",
      "text/plain": [
       "<matplotlib.figure.Figure at 0x7fa1420c6ed0>"
      ]
     },
     "metadata": {},
     "output_type": "display_data"
    },
    {
     "data": {
      "image/png": "[encoded data removed]",
      "text/plain": [
       "<matplotlib.figure.Figure at 0x7fa13e5e2850>"
      ]
     },
     "metadata": {},
     "output_type": "display_data"
    },
    {
     "data": {
      "image/png": "[encoded data removed]",
      "text/plain": [
       "<matplotlib.figure.Figure at 0x7fa13e69f050>"
      ]
     },
     "metadata": {},
     "output_type": "display_data"
    }
   ],
   "source": [
    "'''\n",
    "Your code here.\n",
    "adapted from http://snap.stanford.edu/class/cs224w-2012/nx_tutorial.pdf\n",
    "'''\n",
    "degs={}\n",
    "for n in g1.nodes():\n",
    "    deg=g1.degree(n)\n",
    "    if deg not in degs:\n",
    "        degs[deg]=0\n",
    "    degs[deg]+=1\n",
    "items=sorted(degs.items())\n",
    "\n",
    "fig=plt.figure()\n",
    "ax=fig.add_subplot(111)\n",
    "ax.plot([k for (k,v) in items], [v for (k,v) in items])\n",
    "ax.set_xscale('log')\n",
    "ax.set_yscale('log')\n",
    "plt.title(\"FB Degree Dist\")\n",
    "fig.savefig(\"deg_dist1.png\")\n",
    "print \"figure saved\"\n",
    "\n",
    "#citnet code\n",
    "degs2={}\n",
    "for n in g2.nodes():\n",
    "    deg=g2.degree(n)\n",
    "    if deg not in degs2:\n",
    "        degs2[deg]=0\n",
    "    degs2[deg]+=1\n",
    "items=sorted(degs2.items())\n",
    "\n",
    "fig=plt.figure()\n",
    "ax=fig.add_subplot(111)\n",
    "ax.plot([k for (k,v) in items], [v for (k,v) in items])\n",
    "ax.set_xscale('log')\n",
    "ax.set_yscale('log')\n",
    "plt.title(\"CitNet Degree Dist\")\n",
    "fig.savefig(\"deg_dist2.png\")\n",
    "print \"figure saved2\"\n",
    "\n",
    "#enron code\n",
    "degs3={}\n",
    "for n in g3.nodes():\n",
    "    deg=g3.degree(n)\n",
    "    if deg not in degs3:\n",
    "        degs3[deg]=0\n",
    "    degs3[deg]+=1\n",
    "items=sorted(degs3.items())\n",
    "\n",
    "fig=plt.figure()\n",
    "ax=fig.add_subplot(111)\n",
    "ax.plot([k for (k,v) in items], [v for (k,v) in items])\n",
    "ax.set_xscale('log')\n",
    "ax.set_yscale('log')\n",
    "plt.title(\"Enron Degree Dist\")\n",
    "fig.savefig(\"deg_dist3.png\")\n",
    "print \"figure saved3\"\n",
    "\n",
    "#erdos code\n",
    "degs4={}\n",
    "for n in g4.nodes():\n",
    "    deg=g4.degree(n)\n",
    "    if deg not in degs4:\n",
    "        degs4[deg]=0\n",
    "    degs4[deg]+=1\n",
    "items=sorted(degs4.items())\n",
    "\n",
    "fig=plt.figure()\n",
    "ax=fig.add_subplot(111)\n",
    "ax.plot([k for (k,v) in items], [v for (k,v) in items])\n",
    "ax.set_xscale('log')\n",
    "ax.set_yscale('log')\n",
    "plt.title(\"Erdos Degree Dist\")\n",
    "fig.savefig(\"deg_dist4.png\")\n",
    "print \"figure saved4\""
   ]
  },
  {
   "cell_type": "markdown",
   "metadata": {},
   "source": [
    "### Determine whether the above graph is connected or not. Otherwise, find and store its largest connected component."
   ]
  },
  {
   "cell_type": "code",
   "execution_count": 9,
   "metadata": {},
   "outputs": [
    {
     "name": "stdout",
     "output_type": "stream",
     "text": [
      "is FB connected: True\n",
      "is CitNet connected: False\n",
      "number of connected components: 143\n",
      "is CitNet subgraph connected: True\n",
      "is Enron net connected: False\n",
      "is Enron graph directed: False\n",
      "number of connected components: 1065\n",
      "is Enron subgraph connected: True\n",
      "is Erdos net connected: True\n"
     ]
    }
   ],
   "source": [
    "print \"is FB connected:\",nx.is_connected(g1)\n",
    "#nx.number_connected_components(g1)\n",
    "\n",
    "#citnet code\n",
    "print \"is CitNet connected:\",nx.is_connected(g2)\n",
    "print \"number of connected components:\", nx.number_connected_components(g2)\n",
    "#print \"is graph directed:\", nx.is_directed(g2)\n",
    "\n",
    "#get largest component\n",
    "Gcc = sorted(nx.connected_component_subgraphs(g2), key=len, reverse=True)\n",
    "g22 = Gcc[0]\n",
    "print \"is CitNet subgraph connected:\", nx.is_connected(g22)\n",
    "\n",
    "#enron code\n",
    "print \"is Enron net connected:\",nx.is_connected(g3)\n",
    "print \"is Enron graph directed:\", nx.is_directed(g3)\n",
    "print \"number of connected components:\", nx.number_connected_components(g3)\n",
    "#get largest component\n",
    "Gcc = sorted(nx.connected_component_subgraphs(g3), key=len, reverse=True)\n",
    "g33 = Gcc[0]\n",
    "print \"is Enron subgraph connected:\", nx.is_connected(g33)\n",
    "\n",
    "#erdos code\n",
    "print \"is Erdos net connected:\",nx.is_connected(g4)\n"
   ]
  },
  {
   "cell_type": "markdown",
   "metadata": {},
   "source": [
    "###  Write a code that calculates and prints the network diameter and the average shortest path between any two nodes in the network."
   ]
  },
  {
   "cell_type": "code",
   "execution_count": 10,
   "metadata": {},
   "outputs": [
    {
     "name": "stdout",
     "output_type": "stream",
     "text": [
      "CPU times: user 0 ns, sys: 0 ns, total: 0 ns\n",
      "Wall time: 18.8 µs\n"
     ]
    }
   ],
   "source": [
    "%%time\n",
    "'''\n",
    "Your code here\n",
    "'''\n",
    "'''\n",
    "print \"FB diameter: \",nx.diameter(g1)\n",
    "print \"FB avg shortest path: \",nx.average_shortest_path_length(g1)\n",
    "\n",
    "\n",
    "#citnet code for giant component only\n",
    "g23=nx.to_undirected(g22)\n",
    "print \"changed to undirected\"\n",
    "print \"CitNet diameter: \",nx.diameter(g23)\n",
    "print \"CitNet avg shortest path: \",nx.average_shortest_path_length(g23)\n",
    "\n",
    "\n",
    "#enron code for giant component only\n",
    "g34=nx.to_undirected(g33)\n",
    "print \"Enron diameter: \",nx.diameter(g34)\n",
    "print \"Enron avg shortest path: \",nx.average_shortest_path_length(g34)\n",
    "'''\n",
    "g23=nx.to_undirected(g22)\n",
    "#erdos code\n",
    "#print \"Erdos diameter: \",nx.diameter(g4)\n",
    "#print \"Erdos avg shortest path: \",nx.average_shortest_path_length(g4)\n"
   ]
  },
  {
   "cell_type": "markdown",
   "metadata": {},
   "source": [
    "### Write a code to calculate the clustering coeffient of the nodes of the graph and plot it as a histogram."
   ]
  },
  {
   "cell_type": "code",
   "execution_count": 22,
   "metadata": {},
   "outputs": [
    {
     "data": {
      "image/png": "[encoded data removed]",
      "text/plain": [
       "<matplotlib.figure.Figure at 0x7ff303a43a10>"
      ]
     },
     "metadata": {},
     "output_type": "display_data"
    },
    {
     "data": {
      "image/png": "[encoded data removed]",
      "text/plain": [
       "<matplotlib.figure.Figure at 0x7ff30651b310>"
      ]
     },
     "metadata": {},
     "output_type": "display_data"
    },
    {
     "data": {
      "image/png": "[encoded data removed]",
      "text/plain": [
       "<matplotlib.figure.Figure at 0x7ff306736350>"
      ]
     },
     "metadata": {},
     "output_type": "display_data"
    },
    {
     "data": {
      "image/png": "[encoded data removed]",
      "text/plain": [
       "<matplotlib.figure.Figure at 0x7ff306736f10>"
      ]
     },
     "metadata": {},
     "output_type": "display_data"
    }
   ],
   "source": [
    "'''\n",
    "Your code here\n",
    "'''\n",
    "d1 = nx.clustering(g1)\n",
    "hist(d1.values(),bins=50) #facebook\n",
    "show()\n",
    "\n",
    "d2 = nx.clustering(g2)\n",
    "hist(d2.values(),bins=50) #citnet\n",
    "show()\n",
    "\n",
    "d3 = nx.clustering(g3)\n",
    "hist(d3.values(),bins=50) #enron\n",
    "show()\n",
    "\n",
    "d4=nx.clustering(g4)\n",
    "hist(d4.values(),bins=25) #erdos\n",
    "show()\n"
   ]
  },
  {
   "cell_type": "markdown",
   "metadata": {},
   "source": [
    "### Write a code to calculate the degree centrality of the nodes of the graph and plot it as a histogram."
   ]
  },
  {
   "cell_type": "code",
   "execution_count": 26,
   "metadata": {},
   "outputs": [
    {
     "data": {
      "image/png": "[encoded data removed]",
      "text/plain": [
       "<matplotlib.figure.Figure at 0x7ff3062928d0>"
      ]
     },
     "metadata": {},
     "output_type": "display_data"
    },
    {
     "data": {
      "image/png": "[encoded data removed]",
      "text/plain": [
       "<matplotlib.figure.Figure at 0x7ff2ff9b05d0>"
      ]
     },
     "metadata": {},
     "output_type": "display_data"
    },
    {
     "data": {
      "image/png": "[encoded data removed]",
      "text/plain": [
       "<matplotlib.figure.Figure at 0x7ff2ff9aac90>"
      ]
     },
     "metadata": {},
     "output_type": "display_data"
    },
    {
     "data": {
      "image/png": "[encoded data removed]",
      "text/plain": [
       "<matplotlib.figure.Figure at 0x7ff3063151d0>"
      ]
     },
     "metadata": {},
     "output_type": "display_data"
    }
   ],
   "source": [
    "'''\n",
    "Your code here\n",
    "'''\n",
    "c1= nx.degree_centrality(g1) #facebook\n",
    "hist(c1.values(),bins=75)\n",
    "show()\n",
    "\n",
    "c2= nx.degree_centrality(g2) #citnet\n",
    "hist(c2.values(),bins=100)\n",
    "show()\n",
    "\n",
    "c3= nx.degree_centrality(g3) #enron\n",
    "hist(c3.values(),bins=100)\n",
    "show()\n",
    "\n",
    "c4= nx.degree_centrality(g4) #erdos\n",
    "hist(c4.values(),bins=100)\n",
    "show()\n",
    "\n",
    "\n",
    "\n"
   ]
  },
  {
   "cell_type": "markdown",
   "metadata": {},
   "source": [
    "### Write a code to calculate the betweenness centrality of the nodes of the graph and plot it and plot it as a histogram."
   ]
  },
  {
   "cell_type": "code",
   "execution_count": 8,
   "metadata": {},
   "outputs": [
    {
     "ename": "NameError",
     "evalue": "name 'bn_cent' is not defined",
     "output_type": "error",
     "traceback": [
      "\u001b[0;31m\u001b[0m",
      "\u001b[0;31mNameError\u001b[0mTraceback (most recent call last)",
      "\u001b[0;32m<ipython-input-8-d283c9c67de2>\u001b[0m in \u001b[0;36m<module>\u001b[0;34m()\u001b[0m\n\u001b[1;32m      9\u001b[0m \u001b[0;34m\u001b[0m\u001b[0m\n\u001b[1;32m     10\u001b[0m \u001b[0;31m#facebook betweeness histogram\u001b[0m\u001b[0;34m\u001b[0m\u001b[0;34m\u001b[0m\u001b[0m\n\u001b[0;32m---> 11\u001b[0;31m \u001b[0mymax\u001b[0m \u001b[0;34m=\u001b[0m \u001b[0mmax\u001b[0m\u001b[0;34m(\u001b[0m\u001b[0mbn_cent\u001b[0m\u001b[0;34m.\u001b[0m\u001b[0mkeys\u001b[0m\u001b[0;34m(\u001b[0m\u001b[0;34m)\u001b[0m\u001b[0;34m)\u001b[0m\u001b[0;34m\u001b[0m\u001b[0m\n\u001b[0m\u001b[1;32m     12\u001b[0m \u001b[0mxmax\u001b[0m \u001b[0;34m=\u001b[0m \u001b[0mmax\u001b[0m\u001b[0;34m(\u001b[0m\u001b[0mbn_cent\u001b[0m\u001b[0;34m.\u001b[0m\u001b[0mvalues\u001b[0m\u001b[0;34m(\u001b[0m\u001b[0;34m)\u001b[0m\u001b[0;34m)\u001b[0m\u001b[0;34m\u001b[0m\u001b[0m\n\u001b[1;32m     13\u001b[0m \u001b[0mfigure\u001b[0m\u001b[0;34m(\u001b[0m\u001b[0;34m)\u001b[0m\u001b[0;34m\u001b[0m\u001b[0m\n",
      "\u001b[0;31mNameError\u001b[0m: name 'bn_cent' is not defined"
     ]
    }
   ],
   "source": [
    "'''\n",
    "Your code here\n",
    "This is calculated in the cell below\n",
    "'''\n",
    "'''\n",
    "#facebook betweeness histogram\n",
    "ymax = max(bn_cent.keys())\n",
    "xmax = max(bn_cent.values())\n",
    "figure()\n",
    "hist(bn_cent.values(),bins=100)\n",
    "title('FB Betweeness Cent Histogram') \n",
    "xlabel('Label')\n",
    "ylabel('Another Label')\n",
    "#axis([0, xmax, 0, ymax])\n",
    "savefig('Facebook_bet_cent_histogram.png')\n",
    "fout = \"bn_cent.txt\"\n",
    "fo = open(fout, \"w\")\n",
    "for k, v in bn_cent.items():\n",
    "    fo.write(str(k) + ' ' + str(v) + '\\n')\n",
    "fo.close()\n",
    "'''\n",
    "#CitNet betweeness histogram\n",
    "ymax = max(bn_cent2.keys())\n",
    "xmax = max(bn_cent2.values())\n",
    "figure()\n",
    "hist(bn_cent2.values(),bins=100)\n",
    "title('CitNet Betweeness Cent Histogram') \n",
    "xlabel('Label')\n",
    "ylabel('Another Label')\n",
    "#axis([0, xmax, 0, ymax])\n",
    "savefig('CitNet_bet_cent_histogram.png')\n",
    "fout = \"bn_cent2.txt\"\n",
    "fo = open(fout, \"w\")\n",
    "for k, v in bn_cent2.items():\n",
    "    fo.write(str(k) + ' ' + str(v) + '\\n')\n",
    "fo.close()\n",
    "\n"
   ]
  },
  {
   "cell_type": "markdown",
   "metadata": {},
   "source": [
    "### Write a code to calculate the eigenvector centrality of the nodes of the graph and plot it in as a histogram."
   ]
  },
  {
   "cell_type": "code",
   "execution_count": 27,
   "metadata": {},
   "outputs": [
    {
     "data": {
      "image/png": "[encoded data removed]",
      "text/plain": [
       "<matplotlib.figure.Figure at 0x7ff30a163250>"
      ]
     },
     "metadata": {},
     "output_type": "display_data"
    },
    {
     "data": {
      "image/png": "[encoded data removed]",
      "text/plain": [
       "<matplotlib.figure.Figure at 0x7ff30a163250>"
      ]
     },
     "metadata": {},
     "output_type": "display_data"
    },
    {
     "data": {
      "image/png": "[encoded data removed]",
      "text/plain": [
       "<matplotlib.figure.Figure at 0x7ff34c280310>"
      ]
     },
     "metadata": {},
     "output_type": "display_data"
    },
    {
     "data": {
      "image/png": "[encoded data removed]",
      "text/plain": [
       "<matplotlib.figure.Figure at 0x7ff30a163250>"
      ]
     },
     "metadata": {},
     "output_type": "display_data"
    }
   ],
   "source": [
    "'''\n",
    "Your code here\n",
    "'''\n",
    "centrality = nx.eigenvector_centrality(g1) #facebook\n",
    "hist(centrality.values(),bins=60)\n",
    "show()\n",
    "\n",
    "centrality2 = nx.eigenvector_centrality(g2) #citnet\n",
    "hist(centrality2.values(),bins=60)\n",
    "show()\n",
    "\n",
    "centrality3 = nx.eigenvector_centrality(g3) #enron\n",
    "hist(centrality3.values(),bins=60)\n",
    "show()\n",
    "\n",
    "centrality4 = nx.eigenvector_centrality(g4) #erdos\n",
    "hist(centrality4.values(),bins=60)\n",
    "show()"
   ]
  },
  {
   "cell_type": "markdown",
   "metadata": {},
   "source": [
    "### Write a code to store the graph in a file that is readable by Gephi (Hint: Use NetworkX write_gml method.) Make sure to add the betweenness centrality and degree of each node as an attribute of each node to be stored in this file for the next tasks."
   ]
  },
  {
   "cell_type": "code",
   "execution_count": 7,
   "metadata": {},
   "outputs": [
    {
     "name": "stdout",
     "output_type": "stream",
     "text": [
      "erdos gml created\n"
     ]
    }
   ],
   "source": [
    "'''\n",
    "Your code here\n",
    "'''\n",
    "#fb gml \n",
    "#nx.set_node_attributes(g1, bn_cent,\"betweenness\")\n",
    "#nx.set_node_attributes(g1, degs,\"degdist\")\n",
    "#nx.write_gml(g1,\"test.gml\")\n",
    "\n",
    "#citnet gml\n",
    "# uncompress cit-HepTh-abstracts.tar.gz\n",
    "'''\n",
    "import tarfile\n",
    "tarfile.open(\"data/citNet/cit-HepTh-abstracts.tar.gz\").extractall(\"data/citNet/cit-HepTh-abstracts\")\n",
    "# extract the author name\n",
    "def get_authors(l):\n",
    "    authors = reduce(list.__add__, [a.split(\",\") for a in l[9:].split(\"and\")])\n",
    "    return [x.strip() for x in authors]\n",
    "# attach the attribute author\n",
    "#here G is your networkX graph\n",
    "import os\n",
    "thred = sorted(c2.values(), reverse=True)[100]\n",
    "for subdir, dirs, files in os.walk(\"data/citNet/cit-HepTh-abstracts\"):\n",
    "    for fl in files:\n",
    "        filepath = subdir + os.sep + fl\n",
    "        \n",
    "        if filepath.endswith(\".abs\"):\n",
    "            node_num = int(fl[:-4])\n",
    "            name = \"\"\n",
    "            for l in open(filepath):\n",
    "                if l.startswith(\"Authors:\"):\n",
    "                    name = get_authors(l)[0]\n",
    "            if node_num in g22.nodes():\n",
    "                if g2.node[node_num]['dc'] > thred:\n",
    "                    g2.node[node_num]['author'] = name\n",
    "                elif 'author' in g2.node[node_num]:\n",
    "                    del g2.node[node_num]['author']\n",
    "                    \n",
    "print \"finished adding authors\"                    \n",
    "nx.set_node_attributes(g22, bn_cent2,\"betweenness\")\n",
    "nx.set_node_attributes(g22, degs2,\"degdist\")\n",
    "nx.write_gml(g22,\"test22.gml\")\n",
    "print \"citnet gml created\"\n",
    "'''\n",
    "#enron gml\n",
    "\n",
    "#erdos gml\n",
    "\n",
    "bn_cent4 = {}\n",
    "with open(\"bn_cent4.txt\") as f:\n",
    "    for line in f:\n",
    "       (key, val) = line.split()\n",
    "       bn_cent4[int(key)] = float(val)\n",
    "\n",
    "nx.set_node_attributes(g4, bn_cent4,\"betweenness\")\n",
    "nx.set_node_attributes(g4, degs4,\"deg\")\n",
    "nx.write_gml(g4,\"test4.gml\")\n",
    "print \"erdos gml created\"\n",
    "\n",
    "\n",
    "\n"
   ]
  },
  {
   "cell_type": "markdown",
   "metadata": {},
   "source": [
    "### <font color='red'> Repeat this task for all the other three networks. </font>\n",
    "### (Use the following code to create the Erdos graph in NetworkX.)"
   ]
  },
  {
   "cell_type": "code",
   "execution_count": 7,
   "metadata": {},
   "outputs": [
    {
     "name": "stdout",
     "output_type": "stream",
     "text": [
      "CPU times: user 388 ms, sys: 4 ms, total: 392 ms\n",
      "Wall time: 410 ms\n"
     ]
    }
   ],
   "source": [
    "%%time\n",
    "# build Collaboration Network\n",
    "# undirected network\n",
    "g4 = nx.Graph()\n",
    "\n",
    "# add Paul Erdos into our network at first\n",
    "dict_authors = {}\n",
    "dict_authors['Paul Erdos'] = 0\n",
    "g4.add_node(0)\n",
    "g4.node[0]['author'] = 'Paul Erdos'\n",
    "\n",
    "# add the authors with Erdos number 1 and 2 from file\n",
    "line_count = 1\n",
    "skip_line = 24\n",
    "skip_space = 1\n",
    "\n",
    "is_new = False\n",
    "author = \"\"\n",
    "coauthor = \"\"\n",
    "index = 1\n",
    "ind_author = 1\n",
    "ind_coauthor = 1\n",
    "\n",
    "def parseLine(l, start):\n",
    "    end = start\n",
    "    while end < len(l) - 1 and not (l[end] == ' ' and l[end + 1] == ' '):\n",
    "        end += 1\n",
    "    return l[start:end]\n",
    "\n",
    "def addAuthor(auth, ind):\n",
    "    if auth in dict_authors:\n",
    "        return ind\n",
    "    dict_authors[auth] = ind\n",
    "    return ind + 1\n",
    "\n",
    "for l in open(\"data/erdos/Erdos1.html\"):    \n",
    "    if line_count >= skip_line:\n",
    "        if l == '\\n':\n",
    "            is_new = True\n",
    "        elif is_new:\n",
    "            author = parseLine(l, 0)\n",
    "            index = addAuthor(author, index)\n",
    "            ind_author = dict_authors[author]\n",
    "            g4.add_edge(0, ind_author)\n",
    "            g4.node[ind_author]['author'] = author\n",
    "            is_new = False\n",
    "        elif l == '</pre>':\n",
    "            break\n",
    "        else:\n",
    "            coauthor = parseLine(l, skip_space)\n",
    "            index = addAuthor(coauthor, index)\n",
    "            ind_coauthor = dict_authors[coauthor]\n",
    "            g4.add_edge(ind_author, ind_coauthor)\n",
    "            g4.node[ind_coauthor]['author'] = coauthor\n",
    "    line_count += 1"
   ]
  },
  {
   "cell_type": "code",
   "execution_count": 48,
   "metadata": {},
   "outputs": [
    {
     "name": "stdout",
     "output_type": "stream",
     "text": [
      "Name: \n",
      "Type: Graph\n",
      "Number of nodes: 11524\n",
      "Number of edges: 18504\n",
      "Average degree:   3.2114\n"
     ]
    },
    {
     "data": {
      "image/png": "[encoded data removed]",
      "text/plain": [
       "<matplotlib.figure.Figure at 0x7ff2dac4ba50>"
      ]
     },
     "metadata": {},
     "output_type": "display_data"
    }
   ],
   "source": [
    "print nx.info(g4)\n",
    "\n",
    "ymax = max(bn_cent4.keys())\n",
    "xmax = max(bn_cent4.values())\n",
    "figure()\n",
    "hist(bn_cent4.values(),bins=50)\n",
    "title('Erdos Histogram') \n",
    "xlabel('Label')\n",
    "ylabel('Another Label')\n",
    "axis([0, xmax, 0, ymax])\n",
    "savefig('Erdos_histogram1.png')\n",
    "\n",
    "fout = \"bn_cent4.txt\"\n",
    "fo = open(fout, \"w\")\n",
    "\n",
    "for k, v in bn_cent4.items():\n",
    "    fo.write(str(k) + ' ' + str(v) + '\\n')\n",
    "\n",
    "fo.close()"
   ]
  },
  {
   "cell_type": "markdown",
   "metadata": {},
   "source": [
    "### For larger networks, in case the calculation of the betweenness centrality takes a long time, you can use the  following faster code which uses all the cores of the processing unit."
   ]
  },
  {
   "cell_type": "code",
   "execution_count": 8,
   "metadata": {
    "collapsed": true
   },
   "outputs": [],
   "source": [
    "from multiprocessing import Pool\n",
    "import itertools\n",
    "\n",
    "def chunks(l, n):\n",
    "    \"\"\"Divide a list of nodes `l` in `n` chunks\"\"\"\n",
    "    l_c = iter(l)\n",
    "    while 1:\n",
    "        x = tuple(itertools.islice(l_c, n))\n",
    "        if not x:\n",
    "            return\n",
    "        yield x\n",
    "        \n",
    "def _betmap(G_normalized_weight_sources_tuple):\n",
    "    \"\"\"Pool for multiprocess only accepts functions with one argument.\n",
    "    This function uses a tuple as its only argument. We use a named tuple for\n",
    "    python 3 compatibility, and then unpack it when we send it to\n",
    "    `betweenness_centrality_source`\n",
    "    \"\"\"\n",
    "    return nx.betweenness_centrality_subset(*G_normalized_weight_sources_tuple)\n",
    "\n",
    "def betweenness_centrality_parallel(G, processes=4):\n",
    "    \"\"\"Parallel betweenness centrality function\"\"\"\n",
    "    p = Pool(processes=processes)\n",
    "    node_divisor = len(p._pool)*4\n",
    "    node_chunks = list(chunks(G.nodes(), int(G.order()/node_divisor)))\n",
    "    # print node_chunks\n",
    "    num_chunks = len(node_chunks)\n",
    "    \n",
    "    bt_sc = p.map(_betmap,\n",
    "                 zip([G]*num_chunks,\n",
    "                    node_chunks,\n",
    "                    [list(G)]*num_chunks,\n",
    "                    [True]*num_chunks,\n",
    "                    [None]*num_chunks))\n",
    "    \n",
    "    # print bt_sc\n",
    "    # Reduce the partial solutions\n",
    "    bt_c = bt_sc[0]\n",
    "    for bt in bt_sc[1:]:\n",
    "        for n in bt:\n",
    "            bt_c[n] += bt[n]\n",
    "    return bt_c"
   ]
  },
  {
   "cell_type": "code",
   "execution_count": null,
   "metadata": {
    "scrolled": true
   },
   "outputs": [],
   "source": [
    "%%time\n",
    "'''\n",
    "Your code here.\n",
    "'''\n",
    "#bn_cent=betweenness_centrality_parallel(g1)\n",
    "#hist(bn_cent.values())\n",
    "#show()\n",
    "\n",
    "bn_cent2=betweenness_centrality_parallel(g23)\n",
    "#hist(bn_cent2.values())\n",
    "#show()\n",
    "\n",
    "#bn_cent3=betweenness_centrality_parallel(g33)\n",
    "#hist(bn_cent3.values())\n",
    "#show()\n",
    "\n",
    "#bn_cent4=betweenness_centrality_parallel(g4)\n",
    "#print \"bn cent 4 complete\"\n",
    "#hist(bn_cent4.values())\n",
    "#show()\n",
    "\n",
    "'''\n",
    "if __name__ == \"__main__\":\n",
    "    G_ba = nx.barabasi_albert_graph(1000, 3)\n",
    "    G_er = nx.gnp_random_graph(1000, 0.01)\n",
    "    G_ws = nx.connected_watts_strogatz_graph(1000, 4, 0.1)\n",
    "    for G in [G_ba, G_er, G_ws]:\n",
    "        print(\"\")\n",
    "        print(\"Computing betweenness centrality for:\")\n",
    "        print(nx.info(G))\n",
    "        print(\"\\tParallel version\")\n",
    "        start = time.time()\n",
    "        bt = betweenness_centrality_parallel(G)\n",
    "        print(\"\\t\\tTime: %.4F\" % (time.time() - start))\n",
    "        print(\"\\t\\tBetweenness centrality for node 0: %.5f\" % (bt[0]))\n",
    "        print(\"\\tNon-Parallel version\")\n",
    "        start = time.time()\n",
    "        bt = nx.betweenness_centrality(G)\n",
    "        print(\"\\t\\tTime: %.4F seconds\" % (time.time() - start))\n",
    "        print(\"\\t\\tBetweenness centrality for node 0: %.5f\" % (bt[0]))\n",
    "    print(\"\")\n",
    "\n",
    "    nx.draw(G_ba,node_size=10,width=0.05)\n",
    "    plt.show()\n",
    "    '''"
   ]
  },
  {
   "cell_type": "markdown",
   "metadata": {},
   "source": [
    "## Task 2: Gephi\n",
    "### In this task we will use Gephi to visualize the networks that you analyzed. In the previous task, you saved the graph in the gml format such that each node has the degree and its betweenness centrality as its attribute. In this task you are going to use these attributes to have a better visualization of the graph. Follow these steps to find a nice and meaningfull visualization of the graphs:\n",
    "\n",
    "### Open Gephi-->> Open the '.gml' file of a network -->> Change 'Layout' of the graph (e.g., to Force Atlas 2, etc.) to have a better visualisation -->> In 'Appearance' window there are multiple options to change appearance of the nodes/ edges of the graph according to the various network properties like degree, clustering coefficient, modularity class, etc.-->> Change node size according to Degree distribution. -->> Save image file and include it in the following cell for each of the above networks.\n",
    "\n",
    "### Repeat the above procedure using betweenness centrality. \n",
    "\n",
    "### In addition to including all your visulizations for each of the four networks in your notebook, include the GML and SVG formats of these visulizaitons in your submission. \n",
    "\n",
    "### Answer these questions for the citation and Erdos networks:\n",
    "### -- Label the nodes with the name of the authors such that the font size is proportional to the size of the node.\n",
    "### -- Based on your visualizations who is the author with the largest node? Is this conclusion consistent across the two visulizations (using degree and betweenness centrality) of the graph? What about the author with the second largest node?\n"
   ]
  },
  {
   "cell_type": "code",
   "execution_count": null,
   "metadata": {
    "collapsed": true
   },
   "outputs": [],
   "source": [
    "'''\n",
    "Your code here.\n",
    "'''\n",
    "#Citation Net\n",
    "\n",
    "\n",
    "\n",
    "#Erdos Network\n",
    "\n",
    "#Degree Largest label Abbott\n",
    "#-----2nd Largest label Aull\n",
    "\n",
    "#Betweeness Largest label Paul Erdos\n",
    "#-----2nd Largest label Alon\n"
   ]
  },
  {
   "cell_type": "code",
   "execution_count": 2,
   "metadata": {},
   "outputs": [
    {
     "data": {
      "text/plain": [
       "'\\nYour visulizations here.\\n'"
      ]
     },
     "execution_count": 2,
     "metadata": {},
     "output_type": "execute_result"
    }
   ],
   "source": [
    "'''\n",
    "Your visulizations here.\n",
    "'''\n",
    "\n"
   ]
  },
  {
   "cell_type": "markdown",
   "metadata": {},
   "source": [
    "<img src='fb1.png'>"
   ]
  },
  {
   "cell_type": "markdown",
   "metadata": {},
   "source": [
    "<img src='Erdos.png'>\n"
   ]
  },
  {
   "cell_type": "code",
   "execution_count": null,
   "metadata": {
    "collapsed": true
   },
   "outputs": [],
   "source": []
  }
 ],
 "metadata": {
  "kernelspec": {
   "display_name": "Python 2",
   "language": "python",
   "name": "python2"
  },
  "language_info": {
   "codemirror_mode": {
    "name": "ipython",
    "version": 2
   },
   "file_extension": ".py",
   "mimetype": "text/x-python",
   "name": "python",
   "nbconvert_exporter": "python",
   "pygments_lexer": "ipython2",
   "version": "2.7.13"
  }
 },
 "nbformat": 4,
 "nbformat_minor": 2
}
