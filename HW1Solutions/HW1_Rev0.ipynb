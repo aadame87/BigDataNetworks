{
 "cells": [
  {
   "cell_type": "markdown",
   "metadata": {},
   "source": [
    "# Homework #1\n",
    "## In this homework you are going to get familiar with basics of NetworkX and Gephi for analysing and visualizing networks.\n",
    "\n",
    "## Task 1\n",
    "### NetworkX is a Python library for the analysis of networks. With NetworkX you can create, import, manipulate graphs. Additionally, you can calculate basic properties of these graphs with its built in functions. Unfortunately, NetworkX is not have very powerful for visualizing large graphs which we are going to work with most of the time. For this reason, we are going to use a software called Gephi. In this homework, you are going to do some basic analysis on some famous graphs which you download using the following codes and then store the results in a format which is readable by Gephi. You then use Gephi to have a meaningful visualization of these results.  \n",
    "\n",
    "### You can download Gephi from the following web page:\n",
    "### https://gephi.org/users/download\n",
    "\n",
    "###  You can also learn the basics of NetworkX library and Gephi by looking at the following pages:\n",
    "### Some useful links to get familiar with NetworkX:\n",
    "### https://vimeo.com/124354692\n",
    "### https://www.cl.cam.ac.uk/~cm542/teaching/2010/stna-pdfs/stna-lecture8.pdf\n",
    "### Some useful links to get familiar with Gephi:\n",
    "### https://gephi.org/users/tutorial-visualization/\n",
    "### https://www.youtube.com/watch?v=FLiv3xnEepw"
   ]
  },
  {
   "cell_type": "markdown",
   "metadata": {},
   "source": [
    "### Run the following cell to import the libraries that we are going to use in this homework:"
   ]
  },
  {
   "cell_type": "code",
   "execution_count": 2,
   "metadata": {},
   "outputs": [
    {
     "name": "stdout",
     "output_type": "stream",
     "text": [
      "Populating the interactive namespace from numpy and matplotlib\n",
      "CPU times: user 2.68 s, sys: 420 ms, total: 3.1 s\n",
      "Wall time: 3.27 s\n"
     ]
    }
   ],
   "source": [
    "%%time\n",
    "#import useful packages, all of them are important but not necessarily used in this code\n",
    "#enable inline plotting in Python Notebook\n",
    "#supress warnings\n",
    "\n",
    "%pylab inline\n",
    "import networkx as nx\n",
    "import numpy as np\n",
    "import matplotlib\n",
    "import scipy\n",
    "import warnings\n",
    "warnings.filterwarnings('ignore')\n",
    "import time"
   ]
  },
  {
   "cell_type": "markdown",
   "metadata": {},
   "source": [
    "### Run the following cell to download the raw data for the networks we are going to work with:"
   ]
  },
  {
   "cell_type": "code",
   "execution_count": 2,
   "metadata": {},
   "outputs": [
    {
     "name": "stdout",
     "output_type": "stream",
     "text": [
      "CPU times: user 76 ms, sys: 60 ms, total: 136 ms\n",
      "Wall time: 4.15 s\n"
     ]
    }
   ],
   "source": [
    "%%time\n",
    "# creat the directory at first\n",
    "import os, errno\n",
    "try:\n",
    "    os.makedirs(\"data\")\n",
    "except OSError as e:\n",
    "    if e.errno != errno.EEXIST:\n",
    "        raise\n",
    "try:\n",
    "    os.makedirs(\"data/facebook\")\n",
    "except OSError as e:\n",
    "    if e.errno != errno.EEXIST:\n",
    "        raise\n",
    "        \n",
    "try:\n",
    "    os.makedirs(\"data/enron\")\n",
    "except OSError as e:\n",
    "    if e.errno != errno.EEXIST:\n",
    "        raise\n",
    "try:\n",
    "    os.makedirs(\"data/citNet\")\n",
    "except OSError as e:\n",
    "    if e.errno != errno.EEXIST:\n",
    "        raise\n",
    "\n",
    "try:\n",
    "    os.makedirs(\"data\")\n",
    "except OSError as e:\n",
    "    if e.errno != errno.EEXIST:\n",
    "        raise\n",
    "\n",
    "# download the network file\n",
    "import urllib\n",
    "urllib.urlretrieve(\"https://files.oakland.edu/users/grossman/enp/Erdos1.html\", \"data/Erdos1.html\")\n",
    "urllib.urlretrieve(\"http://snap.stanford.edu/data/cit-HepTh.txt.gz\", \"data/citNet/cit-HepTh.txt.gz\")\n",
    "urllib.urlretrieve(\"http://snap.stanford.edu/data/cit-HepTh-dates.txt.gz\", \"data/citNet/cit-HepTh-dates.txt.gz\")\n",
    "urllib.urlretrieve(\"http://snap.stanford.edu/data/cit-HepTh-abstracts.tar.gz\", \"data/citNet/cit-HepTh-abstracts.tar.gz\")\n",
    "urllib.urlretrieve(\"https://snap.stanford.edu/data/facebook_combined.txt.gz\",\"data/facebook/facebook_combined.txt.gz\")\n",
    "urllib.urlretrieve(\"https://snap.stanford.edu/data/email-Enron.txt.gz\",\"data/enron/email-Enron.txt.gz\")"
   ]
  },
  {
   "cell_type": "markdown",
   "metadata": {},
   "source": [
    "### Run the following cell to unzip and store the Facebook dateset in a .txt file which is readable by NetworkX:"
   ]
  },
  {
   "cell_type": "code",
   "execution_count": 2,
   "metadata": {},
   "outputs": [
    {
     "name": "stdout",
     "output_type": "stream",
     "text": [
      "No. of nodes are= 4039\n",
      "No. of edges are= 88234\n",
      "CPU times: user 492 ms, sys: 20 ms, total: 512 ms\n",
      "Wall time: 680 ms\n"
     ]
    }
   ],
   "source": [
    "%%time\n",
    "# The following code simply converts the data file from ZIP to TXT so that NetworkX can read it\n",
    "\n",
    "import gzip\n",
    "inF = gzip.GzipFile(\"data/facebook/facebook_combined.txt.gz\", 'rb')\n",
    "s = inF.read()\n",
    "inF.close()\n",
    "\n",
    "outF = file(\"data/facebook/facebook_combined.txt\", 'wb')\n",
    "outF.write(s)\n",
    "outF.close()"
   ]
  },
  {
   "cell_type": "code",
   "execution_count": 14,
   "metadata": {},
   "outputs": [
    {
     "name": "stdout",
     "output_type": "stream",
     "text": [
      "No. of nodes are= 4039\n",
      "No. of edges are= 88234\n",
      "CPU times: user 476 ms, sys: 16 ms, total: 492 ms\n",
      "Wall time: 522 ms\n"
     ]
    }
   ],
   "source": [
    "%%time\n",
    "#load the network after converting into text file\n",
    "\n",
    "file_name=\"data/facebook/facebook_combined.txt\"\n",
    "\n",
    "#convert the information in the text file into a graph, find no. of edges & nodes in the graph\n",
    "\n",
    "g1=nx.read_edgelist(file_name,create_using=nx.Graph(),nodetype=int)\n",
    "node, edge=g1.order(),g1.size()\n",
    "print \"No. of nodes are=\",node\n",
    "print \"No. of edges are=\",edge"
   ]
  },
  {
   "cell_type": "code",
   "execution_count": 7,
   "metadata": {
    "collapsed": true
   },
   "outputs": [],
   "source": [
    "try:\n",
    "    os.makedirs(\"Results/facebook\")\n",
    "except OSError as e:\n",
    "    if e.errno != errno.EEXIST:\n",
    "        raise\n",
    "        \n",
    "try:\n",
    "    os.makedirs(\"Results/enron\")\n",
    "except OSError as e:\n",
    "    if e.errno != errno.EEXIST:\n",
    "        raise"
   ]
  },
  {
   "cell_type": "code",
   "execution_count": 30,
   "metadata": {
    "collapsed": true
   },
   "outputs": [],
   "source": [
    "import os,errno\n",
    "try:\n",
    "    os.makedirs(\"Results/citation\")\n",
    "except OSError as e:\n",
    "    if e.errno != errno.EEXIST:\n",
    "        raise\n",
    "        \n",
    "try:\n",
    "    os.makedirs(\"Results/erdos\")\n",
    "except OSError as e:\n",
    "    if e.errno != errno.EEXIST:\n",
    "        raise"
   ]
  },
  {
   "cell_type": "markdown",
   "metadata": {},
   "source": [
    "### Write a code that plots the degree distribution of the above graph. (Make sure you do not confuse degree distribution with degree sequence!)"
   ]
  },
  {
   "cell_type": "code",
   "execution_count": 8,
   "metadata": {},
   "outputs": [
    {
     "data": {
      "image/png": "[encoded data removed]",
      "text/plain": [
       "<matplotlib.figure.Figure at 0x7fe3becac210>"
      ]
     },
     "metadata": {},
     "output_type": "display_data"
    },
    {
     "name": "stdout",
     "output_type": "stream",
     "text": [
      "Writing 'degList' (dict) to file 'Results/facebook/degDist.txt'.\n",
      "Average degree= 10.0202223918\n",
      "CPU times: user 9.95 s, sys: 240 ms, total: 10.2 s\n",
      "Wall time: 27.5 s\n"
     ]
    }
   ],
   "source": [
    "%%time\n",
    "deg=g1.degree()\n",
    "d=list(np.zeros((node), dtype=np.int))\n",
    "temp=list(np.zeros((node), dtype=np.int))\n",
    "for k in range (node):\n",
    "    d[k]= deg[k]\n",
    "for k in range (node):\n",
    "    temp[k]=k\n",
    "degList=dict(zip(temp,d))\n",
    "for k in g1.nodes():\n",
    "    g1.node[k]['deg'] = degList[k]\n",
    "deg_values = sorted(set(degList.values()))\n",
    "deg_hist = [degList.values().count(x) for x in deg_values]\n",
    "plt.figure()\n",
    "plt.grid(True)\n",
    "plt.loglog(deg_values, deg_hist) #degree\n",
    "plt.xlabel('Degree')\n",
    "plt.ylabel('Number of nodes')\n",
    "plt.title('Facebook Network Degree Distribution')\n",
    "plt.xlim([0, max(degList.values())])\n",
    "plt.show()\n",
    "plt.close()\n",
    "%store degList >Results/facebook/degDist.txt\n",
    "print \"Average degree=\",mean(degList.values())"
   ]
  },
  {
   "cell_type": "markdown",
   "metadata": {},
   "source": [
    "### Write a code that calculates and prints the network diameter and the average shortest path."
   ]
  },
  {
   "cell_type": "code",
   "execution_count": 13,
   "metadata": {},
   "outputs": [
    {
     "name": "stdout",
     "output_type": "stream",
     "text": [
      "Network diameter= 8\n",
      "Average Shortest path length= 3.6925068497\n",
      "Writing 'diameter' (int) to file 'Results/facebook/diameter.txt'.\n",
      "Writing 'aspl' (float) to file 'Results/facebook/aspl.txt'.\n",
      "CPU times: user 9min 45s, sys: 2.06 s, total: 9min 47s\n",
      "Wall time: 9min 42s\n"
     ]
    }
   ],
   "source": [
    "%%time\n",
    "#network diameter and average shortest path length\n",
    "connected=nx.is_connected(g1)\n",
    "if connected is True:\n",
    "    diameter=nx.diameter(g1)\n",
    "    print \"Network diameter=\",diameter\n",
    "    aspl=nx.average_shortest_path_length(g1)\n",
    "    print \"Average Shortest path length=\",aspl\n",
    "%store diameter >Results/facebook/diameter.txt\n",
    "%store aspl >Results/facebook/aspl.txt"
   ]
  },
  {
   "cell_type": "markdown",
   "metadata": {},
   "source": [
    "### Write a code to calculate the clustering coeffient of the nodes of the graph and plot it."
   ]
  },
  {
   "cell_type": "code",
   "execution_count": 24,
   "metadata": {},
   "outputs": [
    {
     "data": {
      "image/png": "[encoded data removed]",
      "text/plain": [
       "<matplotlib.figure.Figure at 0x7f50130b8d50>"
      ]
     },
     "metadata": {},
     "output_type": "display_data"
    },
    {
     "name": "stdout",
     "output_type": "stream",
     "text": [
      "Average Clusterng Coefficient= 0.509189901972\n",
      "Writing 'cc' (dict) to file 'Results/facebook/clCoeff.txt'.\n",
      "CPU times: user 11.2 s, sys: 372 ms, total: 11.5 s\n",
      "Wall time: 11.2 s\n"
     ]
    }
   ],
   "source": [
    "%%time\n",
    "#clustering coefficient\n",
    "\n",
    "cc=nx.clustering(g1)\n",
    "cc_values = sorted(set(cc.values()))\n",
    "cc_hist = [cc.values().count(x) for x in cc_values]\n",
    "plt.figure()\n",
    "plt.grid(True)\n",
    "plt.plot(cc_values, cc_hist)\n",
    "plt.xlabel('Clustering Coefficient')\n",
    "plt.ylabel('Number of nodes')\n",
    "plt.title('Facebook Network Clustering Coefficient distribution')\n",
    "plt.xlim([0, 1])\n",
    "plt.show()\n",
    "plt.close()\n",
    "print \"Average Clusterng Coefficient=\",mean(cc.values())\n",
    "%store cc >Results/facebook/clCoeff.txt"
   ]
  },
  {
   "cell_type": "markdown",
   "metadata": {},
   "source": [
    "### Write a code to calculate the degree centrality of the nodes of the graph and plot it."
   ]
  },
  {
   "cell_type": "code",
   "execution_count": 7,
   "metadata": {},
   "outputs": [
    {
     "data": {
      "image/png": "[encoded data removed]",
      "text/plain": [
       "<matplotlib.figure.Figure at 0x7fe3cc0c6790>"
      ]
     },
     "metadata": {},
     "output_type": "display_data"
    },
    {
     "name": "stdout",
     "output_type": "stream",
     "text": [
      "Average degree centrality= 0.000273097555035\n",
      "Writing 'dc' (dict) to file 'Results/facebook/degCen.txt'.\n",
      "CPU times: user 12.1 s, sys: 400 ms, total: 12.5 s\n",
      "Wall time: 28.3 s\n"
     ]
    }
   ],
   "source": [
    "%%time\n",
    "#degree centrality distribution and parsing into Gephi\n",
    "\n",
    "dc=nx.degree_centrality(g1)\n",
    "for k in g1.nodes():\n",
    "    g1.node[k]['dc'] = dc[k]\n",
    "dc_values = sorted(set(dc.values()))\n",
    "dc_hist = [dc.values().count(x) for x in dc_values]\n",
    "plt.figure()\n",
    "plt.grid(True)\n",
    "plt.loglog(dc_values, dc_hist)\n",
    "plt.xlabel('Degree Centrality')\n",
    "plt.ylabel('Number of nodes')\n",
    "plt.title('Facebook Network Degree Centrality distribution')\n",
    "plt.xlim([0, max(dc.values())])\n",
    "plt.show()\n",
    "plt.close()\n",
    "print \"Average degree centrality=\",mean(dc.values())\n",
    "%store dc >Results/facebook/degCen.txt"
   ]
  },
  {
   "cell_type": "markdown",
   "metadata": {},
   "source": [
    "### Write a code to calculate the betweenness centrality of the nodes of the graph and plot it."
   ]
  },
  {
   "cell_type": "code",
   "execution_count": 16,
   "metadata": {},
   "outputs": [
    {
     "data": {
      "image/png": "[encoded data removed]",
      "text/plain": [
       "<matplotlib.figure.Figure at 0x7f5024b62f90>"
      ]
     },
     "metadata": {},
     "output_type": "display_data"
    },
    {
     "name": "stdout",
     "output_type": "stream",
     "text": [
      "Average betweenness centrality= 0.000666957356873\n",
      "Writing 'bcen' (dict) to file 'Results/facebook/betCen.txt'.\n",
      "CPU times: user 2min 56s, sys: 360 ms, total: 2min 56s\n",
      "Wall time: 2min 56s\n"
     ]
    }
   ],
   "source": [
    "%%time\n",
    "#Betweenness centrality distribution and parsing into Gephi\n",
    "\n",
    "bcen=nx.betweenness_centrality(g1)\n",
    "for k in g1.nodes():\n",
    "    g1.node[k]['bcen'] = bcen[k]\n",
    "bcen_values = sorted(set(bcen.values()))\n",
    "bcen_hist = [bcen.values().count(x) for x in bcen_values]\n",
    "plt.figure()\n",
    "plt.grid(True)\n",
    "plt.plot(bcen_values, bcen_hist, 'ro-')\n",
    "plt.xlabel('Betweenness Centrality')\n",
    "plt.ylabel('Number of nodes')\n",
    "plt.title('Facebook Network Betweenness Centrality distribution')\n",
    "plt.xlim([0, max(bcen.values())])\n",
    "plt.show()\n",
    "plt.close()\n",
    "print \"Average betweenness centrality=\",mean(bcen.values())\n",
    "%store bcen >Results/facebook/betCen.txt"
   ]
  },
  {
   "cell_type": "markdown",
   "metadata": {},
   "source": [
    "### Write a code to calculate the eigenvector centrality of the nodes of the graph and plot it."
   ]
  },
  {
   "cell_type": "code",
   "execution_count": 17,
   "metadata": {},
   "outputs": [
    {
     "data": {
      "image/png": "[encoded data removed]",
      "text/plain": [
       "<matplotlib.figure.Figure at 0x7f50579ebc90>"
      ]
     },
     "metadata": {},
     "output_type": "display_data"
    },
    {
     "name": "stdout",
     "output_type": "stream",
     "text": [
      "Average Eigen vector centrality= 0.00386434080793\n",
      "Writing 'ecen' (dict) to file 'Results/facebook/eigenCen.txt'.\n",
      "CPU times: user 11.6 s, sys: 372 ms, total: 12 s\n",
      "Wall time: 11.6 s\n"
     ]
    }
   ],
   "source": [
    "%%time\n",
    "#Eigen Vector centrality distribution\n",
    "\n",
    "ecen=nx.eigenvector_centrality(g1)\n",
    "ecen_values = sorted(set(ecen.values()))\n",
    "ecen_hist = [ecen.values().count(x) for x in ecen_values]\n",
    "plt.figure()\n",
    "plt.grid(True)\n",
    "plt.plot(ecen_values, ecen_hist,'ro-')\n",
    "plt.xlabel('Eigen Vectro Centrality')\n",
    "plt.ylabel('Number of nodes')\n",
    "plt.title('Facebook Network EigenVector Centrality distribution')\n",
    "plt.xlim([0, max(ecen.values())])\n",
    "plt.show()\n",
    "plt.close()\n",
    "print \"Average Eigen vector centrality=\",mean(ecen.values())\n",
    "%store ecen >Results/facebook/eigenCen.txt"
   ]
  },
  {
   "cell_type": "markdown",
   "metadata": {},
   "source": [
    "### Write a code to store the graph in a file that is readable by Gephi (Hint: Use NetworkX write_gml method.) Make sure to add the betweenness centrality and degree of each node as an attribute of each node to be stored in this file for the next task."
   ]
  },
  {
   "cell_type": "code",
   "execution_count": 18,
   "metadata": {},
   "outputs": [
    {
     "name": "stdout",
     "output_type": "stream",
     "text": [
      "CPU times: user 524 ms, sys: 0 ns, total: 524 ms\n",
      "Wall time: 718 ms\n"
     ]
    }
   ],
   "source": [
    "%%time\n",
    "#create .gml object with attributes for 'Gephi' visualization\n",
    "\n",
    "nx.write_gml(g1, \"data/facebook/g1.gml\")"
   ]
  },
  {
   "cell_type": "markdown",
   "metadata": {},
   "source": [
    "## Enron email network analysis"
   ]
  },
  {
   "cell_type": "code",
   "execution_count": 2,
   "metadata": {},
   "outputs": [
    {
     "name": "stdout",
     "output_type": "stream",
     "text": [
      "CPU times: user 48 ms, sys: 4 ms, total: 52 ms\n",
      "Wall time: 250 ms\n"
     ]
    }
   ],
   "source": [
    "%%time\n",
    "# The following code simply converts the data file from ZIP to TXT so that NetworkX can read it\n",
    "\n",
    "import gzip\n",
    "inF = gzip.GzipFile(\"data/enron/email-Enron.txt.gz\", 'rb')\n",
    "s = inF.read()\n",
    "inF.close()\n",
    "\n",
    "outF = file(\"data/enron/email-Enron.txt\", 'wb')\n",
    "outF.write(s)\n",
    "outF.close()"
   ]
  },
  {
   "cell_type": "code",
   "execution_count": 3,
   "metadata": {},
   "outputs": [
    {
     "name": "stdout",
     "output_type": "stream",
     "text": [
      "No. of nodes are= 36692\n",
      "No. of edges are= 183831\n",
      "CPU times: user 2.03 s, sys: 88 ms, total: 2.12 s\n",
      "Wall time: 2.12 s\n"
     ]
    }
   ],
   "source": [
    "%%time\n",
    "#load the network after converting into text file\n",
    "\n",
    "file_name=\"data/enron/email-Enron.txt\"\n",
    "\n",
    "#convert the information in the text file into a graph, find no. of edges & nodes in the graph\n",
    "\n",
    "g1=nx.read_edgelist(file_name,create_using=nx.Graph(),nodetype=int)\n",
    "node, edge=g1.order(),g1.size()\n",
    "print \"No. of nodes are=\",node\n",
    "print \"No. of edges are=\",edge"
   ]
  },
  {
   "cell_type": "code",
   "execution_count": 4,
   "metadata": {},
   "outputs": [
    {
     "name": "stdout",
     "output_type": "stream",
     "text": [
      "Graph is not connected. So, finding the largest connected component of graph\n",
      "Properties of largest subgraph:\n",
      "Name: \n",
      "Type: Graph\n",
      "Number of nodes: 33696\n",
      "Number of edges: 180811\n",
      "Average degree:  10.7319\n",
      "CPU times: user 28 s, sys: 72 ms, total: 28 s\n",
      "Wall time: 27.9 s\n"
     ]
    }
   ],
   "source": [
    "%%time\n",
    "# check whether the network is connected, if not find the largest connected component of the network\n",
    "connected=nx.is_connected(g1)\n",
    "og=g1\n",
    "\n",
    "if connected is True:\n",
    "    print \"Graph is connected!\"\n",
    "    graph_max=g1\n",
    "else:\n",
    "    print \"Graph is not connected. So, finding the largest connected component of graph\"\n",
    "    print \"Properties of largest subgraph:\"\n",
    "    graphs = list(nx.connected_component_subgraphs(g1, copy=True))\n",
    "    # the connected component with the most nodes\n",
    "    graph_max = sorted([(len(gn.nodes()), gn) for gn in graphs], key=lambda x: x[0], reverse=True)[0][1]\n",
    "    print nx.info(graph_max)\n",
    "g1=graph_max"
   ]
  },
  {
   "cell_type": "code",
   "execution_count": 30,
   "metadata": {},
   "outputs": [
    {
     "name": "stdout",
     "output_type": "stream",
     "text": [
      "Average Shortest path length= 4.02516398818\n",
      "Writing 'aspl' (float) to file 'Results/enron/aspl.txt'.\n",
      "CPU times: user 2h 7min 10s, sys: 2min 28s, total: 2h 9min 38s\n",
      "Wall time: 2h 8min 6s\n"
     ]
    }
   ],
   "source": [
    "%%time\n",
    "#average shortest path length of Largest connected component\n",
    "aspl=nx.average_shortest_path_length(g1)\n",
    "print \"Average Shortest path length=\",aspl\n",
    "#%store diameter >Results/enron/diameter.txt\n",
    "%store aspl >Results/enron/aspl.txt"
   ]
  },
  {
   "cell_type": "code",
   "execution_count": 7,
   "metadata": {},
   "outputs": [
    {
     "name": "stdout",
     "output_type": "stream",
     "text": [
      "Network diameter= 13\n",
      "Writing 'diameter' (int) to file 'Results/enron/diameter.txt'.\n",
      "CPU times: user 2h 9min 36s, sys: 34.3 s, total: 2h 10min 10s\n",
      "Wall time: 2h 8min 46s\n"
     ]
    }
   ],
   "source": [
    "%%time\n",
    "diameter=nx.diameter(g1)\n",
    "print \"Network diameter=\",diameter\n",
    "%store diameter >Results/enron/diameter.txt"
   ]
  },
  {
   "cell_type": "code",
   "execution_count": 5,
   "metadata": {},
   "outputs": [
    {
     "data": {
      "image/png": "[encoded data removed]",
      "text/plain": [
       "<matplotlib.figure.Figure at 0x7f55ba12ba50>"
      ]
     },
     "metadata": {},
     "output_type": "display_data"
    },
    {
     "name": "stdout",
     "output_type": "stream",
     "text": [
      "Writing 'deg' (DegreeView) to file 'Results/enron/degDist.txt'.\n",
      "Average degree= 10.0202223918\n"
     ]
    }
   ],
   "source": [
    "\n",
    "deg=og.degree()\n",
    "d=list(np.zeros((node), dtype=np.int))\n",
    "temp=list(np.zeros((node), dtype=np.int))\n",
    "for k in range (node):\n",
    "    d[k]= deg[k]\n",
    "for k in range (node):\n",
    "    temp[k]=k\n",
    "degList=dict(zip(temp,d))\n",
    "for k in g1.nodes():\n",
    "    og.node[k]['deg'] = deg[k]\n",
    "deg_values = sorted(set(degList.values()))\n",
    "deg_hist = [degList.values().count(x) for x in deg_values]\n",
    "plt.figure()\n",
    "plt.grid(True)\n",
    "plt.loglog(deg_values, deg_hist) #degree\n",
    "plt.xlabel('Degree')\n",
    "plt.ylabel('Number of nodes')\n",
    "plt.title('Enron-Email Network Degree Distribution')\n",
    "plt.xlim([0, max(degList.values())])\n",
    "plt.show()\n",
    "plt.close()\n",
    "%store deg >Results/enron/degDist.txt\n",
    "print \"Average degree=\",mean(degList.values())"
   ]
  },
  {
   "cell_type": "code",
   "execution_count": 4,
   "metadata": {},
   "outputs": [
    {
     "data": {
      "image/png": "[encoded data removed]",
      "text/plain": [
       "<matplotlib.figure.Figure at 0x7f254920bc90>"
      ]
     },
     "metadata": {},
     "output_type": "display_data"
    },
    {
     "name": "stdout",
     "output_type": "stream",
     "text": [
      "Average Clusterng Coefficient= 0.4969825596\n",
      "Writing 'cc' (dict) to file 'Results/enron/clCoeff.txt'.\n",
      "CPU times: user 12.8 s, sys: 472 ms, total: 13.3 s\n",
      "Wall time: 12.9 s\n"
     ]
    }
   ],
   "source": [
    "%%time\n",
    "#clustering coefficient\n",
    "\n",
    "cc=nx.clustering(og)\n",
    "cc_values = sorted(set(cc.values()))\n",
    "cc_hist = [cc.values().count(x) for x in cc_values]\n",
    "plt.figure()\n",
    "plt.grid(True)\n",
    "plt.plot(cc_values, cc_hist)\n",
    "plt.xlabel('Clustering Coefficient')\n",
    "plt.ylabel('Number of nodes')\n",
    "plt.title('Enron-Email Network Clustering Coefficient distribution')\n",
    "plt.xlim([0, 1])\n",
    "plt.show()\n",
    "plt.close()\n",
    "print \"Average Clusterng Coefficient=\",mean(cc.values())\n",
    "%store cc >Results/enron/clCoeff.txt"
   ]
  },
  {
   "cell_type": "code",
   "execution_count": 5,
   "metadata": {},
   "outputs": [
    {
     "data": {
      "image/png": "[encoded data removed]",
      "text/plain": [
       "<matplotlib.figure.Figure at 0x7f254fdae0d0>"
      ]
     },
     "metadata": {},
     "output_type": "display_data"
    },
    {
     "name": "stdout",
     "output_type": "stream",
     "text": [
      "Average degree centrality= 0.000273097555035\n",
      "Writing 'dc' (dict) to file 'Results/enron/degCen.txt'.\n",
      "CPU times: user 2.24 s, sys: 460 ms, total: 2.7 s\n",
      "Wall time: 2.32 s\n"
     ]
    }
   ],
   "source": [
    "%%time\n",
    "#degree centrality distribution and parsing into Gephi\n",
    "\n",
    "dc=nx.degree_centrality(og)\n",
    "for k in og.nodes():\n",
    "    og.node[k]['dc'] = dc[k]\n",
    "dc_values = sorted(set(dc.values()))\n",
    "dc_hist = [dc.values().count(x) for x in dc_values]\n",
    "plt.figure()\n",
    "plt.grid(True)\n",
    "plt.loglog(dc_values, dc_hist)\n",
    "plt.xlabel('Degree Centrality')\n",
    "plt.ylabel('Number of nodes')\n",
    "plt.title('Ernon-Email Network Degree Centrality distribution')\n",
    "plt.xlim([0, max(dc.values())])\n",
    "plt.show()\n",
    "plt.close()\n",
    "print \"Average degree centrality=\",mean(dc.values())\n",
    "%store dc >Results/enron/degCen.txt"
   ]
  },
  {
   "cell_type": "code",
   "execution_count": 4,
   "metadata": {},
   "outputs": [
    {
     "name": "stdout",
     "output_type": "stream",
     "text": [
      "\n",
      "Computing betweenness centrality for:\n",
      "Name: \n",
      "Type: Graph\n",
      "Number of nodes: 36692\n",
      "Number of edges: 183831\n",
      "Average degree:  10.0202\n",
      "\tParallel version\n",
      "\t\tTime: 4454.6783\n",
      "\t\tBetweenness centrality for node 0: 0.00000\n",
      "\n",
      "Writing 'bt' (dict) to file 'Results/enron/betCen.txt'.\n",
      "Average betweenness centrality for enron email network= 6.95367656148e-05\n",
      "CPU times: user 9.11 s, sys: 492 ms, total: 9.6 s\n",
      "Wall time: 1h 14min 15s\n"
     ]
    },
    {
     "name": "stderr",
     "output_type": "stream",
     "text": [
      "Process PoolWorker-1:\n",
      "Traceback (most recent call last):\n",
      "Traceback (most recent call last):\n",
      "Process PoolWorker-3:\n",
      "Process PoolWorker-2:\n",
      "Process PoolWorker-4:\n",
      "Traceback (most recent call last):\n",
      "Traceback (most recent call last):\n",
      "  File \"/opt/conda/envs/python2/lib/python2.7/multiprocessing/process.py\", line 258, in _bootstrap\n",
      "  File \"/opt/conda/envs/python2/lib/python2.7/multiprocessing/process.py\", line 258, in _bootstrap\n",
      "  File \"/opt/conda/envs/python2/lib/python2.7/multiprocessing/process.py\", line 258, in _bootstrap\n",
      "    self.run()\n",
      "  File \"/opt/conda/envs/python2/lib/python2.7/multiprocessing/process.py\", line 258, in _bootstrap\n",
      "    self.run()\n",
      "  File \"/opt/conda/envs/python2/lib/python2.7/multiprocessing/process.py\", line 114, in run\n",
      "    self._target(*self._args, **self._kwargs)\n",
      "  File \"/opt/conda/envs/python2/lib/python2.7/multiprocessing/pool.py\", line 102, in worker\n",
      "    self.run()\n",
      "    self.run()\n",
      "    task = get()\n",
      "  File \"/opt/conda/envs/python2/lib/python2.7/multiprocessing/process.py\", line 114, in run\n",
      "  File \"/opt/conda/envs/python2/lib/python2.7/multiprocessing/process.py\", line 114, in run\n",
      "  File \"/opt/conda/envs/python2/lib/python2.7/multiprocessing/process.py\", line 114, in run\n",
      "  File \"/opt/conda/envs/python2/lib/python2.7/multiprocessing/queues.py\", line 376, in get\n",
      "    self._target(*self._args, **self._kwargs)\n",
      "    self._target(*self._args, **self._kwargs)\n",
      "    self._target(*self._args, **self._kwargs)\n",
      "  File \"/opt/conda/envs/python2/lib/python2.7/multiprocessing/pool.py\", line 102, in worker\n",
      "    task = get()\n",
      "  File \"/opt/conda/envs/python2/lib/python2.7/multiprocessing/queues.py\", line 378, in get\n",
      "    return recv()\n",
      "  File \"/opt/conda/envs/python2/lib/python2.7/multiprocessing/pool.py\", line 102, in worker\n",
      "KeyboardInterrupt\n",
      "    racquire()\n",
      "    task = get()\n",
      "  File \"/opt/conda/envs/python2/lib/python2.7/multiprocessing/pool.py\", line 102, in worker\n",
      "KeyboardInterrupt\n",
      "    task = get()\n",
      "  File \"/opt/conda/envs/python2/lib/python2.7/multiprocessing/queues.py\", line 376, in get\n",
      "  File \"/opt/conda/envs/python2/lib/python2.7/multiprocessing/queues.py\", line 376, in get\n",
      "    racquire()\n",
      "    racquire()\n",
      "KeyboardInterrupt\n",
      "KeyboardInterrupt\n"
     ]
    }
   ],
   "source": [
    "%%time\n",
    "from multiprocessing import Pool\n",
    "import time\n",
    "import itertools\n",
    "\n",
    "G=g1\n",
    "\n",
    "def chunks(l, n):\n",
    "    \"\"\"Divide a list of nodes `l` in `n` chunks\"\"\"\n",
    "    l_c = iter(l)\n",
    "    while 1:\n",
    "        x = tuple(itertools.islice(l_c, n))\n",
    "        if not x:\n",
    "            return\n",
    "        yield x\n",
    "\n",
    "\n",
    "def _betmap(G_normalized_weight_sources_tuple):\n",
    "    \"\"\"Pool for multiprocess only accepts functions with one argument.\n",
    "    This function uses a tuple as its only argument. We use a named tuple for\n",
    "    python 3 compatibility, and then unpack it when we send it to\n",
    "    `betweenness_centrality_source`\n",
    "    \"\"\"\n",
    "    return nx.betweenness_centrality_subset(*G_normalized_weight_sources_tuple)\n",
    "\n",
    "\n",
    "def betweenness_centrality_parallel(G, processes=4):\n",
    "    \"\"\"Parallel betweenness centrality  function\"\"\"\n",
    "    p = Pool(processes=processes)\n",
    "    node_divisor = len(p._pool)*4\n",
    "    node_chunks = list(chunks(G.nodes(), int(G.order()/node_divisor)))\n",
    "    #print node_chunks\n",
    "    num_chunks = len(node_chunks)\n",
    "\n",
    "    \n",
    "    bt_sc = p.map(_betmap,\n",
    "                  zip([G]*num_chunks,\n",
    "                      node_chunks,\n",
    "                      [list(G)]*num_chunks,\n",
    "                      [True]*num_chunks,\n",
    "                      [None]*num_chunks))\n",
    "    \n",
    "    \n",
    "    #print bt_sc\n",
    "\n",
    "    # Reduce the partial solutions\n",
    "    bt_c = bt_sc[0]\n",
    "    for bt in bt_sc[1:]:\n",
    "        for n in bt:\n",
    "            bt_c[n] += bt[n]\n",
    "    return bt_c\n",
    "\n",
    "print(\"\")\n",
    "print(\"Computing betweenness centrality for:\")\n",
    "print(nx.info(G))\n",
    "print(\"\\tParallel version\")\n",
    "start = time.time()\n",
    "#G = graph_max\n",
    "#node_chunks = list(chunks(G.nodes(), int(G.order()/4)))\n",
    "#G = graph_max\n",
    "#print \"SOURCE:\", nx.betweenness_centrality_source(graph_max,True,False,list([1,2]))\n",
    "#bt = nx.betweenness_centrality_subset(G,[0],list(G),True,None)\n",
    "bt = betweenness_centrality_parallel(G)\n",
    "#bt = nx.betweenness_centrality(graph_max)\n",
    "print(\"\\t\\tTime: %.4F\" % (time.time()-start))\n",
    "print(\"\\t\\tBetweenness centrality for node 0: %.5f\" % (bt[0]))\n",
    "\n",
    "#print(\"\\tNon-Parallel version\")\n",
    "#start = time.time()\n",
    "#bt = nx.betweenness_centrality(G)\n",
    "#print(\"\\t\\tTime: %.4F seconds\" % (time.time()-start))\n",
    "#print(\"\\t\\tBetweenness centrality for node 0: %.5f\" % (bt[0]))\n",
    "\n",
    "print(\"\")\n",
    "\n",
    "%store bt >Results/enron/betCen.txt\n",
    "print \"Average betweenness centrality for enron email network=\",mean(bt.values())"
   ]
  },
  {
   "cell_type": "code",
   "execution_count": 8,
   "metadata": {},
   "outputs": [
    {
     "name": "stdout",
     "output_type": "stream",
     "text": [
      "Average betweenness centrality for enron email network= 6.95367656148e-05\n"
     ]
    },
    {
     "data": {
      "image/png": "[encoded data removed]",
      "text/plain": [
       "<matplotlib.figure.Figure at 0x7ffb75726a10>"
      ]
     },
     "metadata": {},
     "output_type": "display_data"
    },
    {
     "name": "stdout",
     "output_type": "stream",
     "text": [
      "CPU times: user 8.84 s, sys: 260 ms, total: 9.1 s\n",
      "Wall time: 8.72 s\n"
     ]
    }
   ],
   "source": [
    "%%time\n",
    "print \"Average betweenness centrality for enron email network=\",mean(bt.values())\n",
    "for k in g1.nodes():\n",
    "    g1.node[k]['bcen'] = bt[k]\n",
    "bcen_values = sorted(set(bt.values()))\n",
    "bcen_hist = [bt.values().count(x) for x in bcen_values]\n",
    "plt.figure()\n",
    "plt.grid(True)\n",
    "plt.plot(bcen_values, bcen_hist, 'ro-')\n",
    "plt.xlabel('Betweenness Centrality')\n",
    "plt.ylabel('Number of nodes')\n",
    "plt.title('Enron emails network Betweenness Centrality distribution')\n",
    "plt.xlim([0, max(bt.values())])\n",
    "plt.show()\n",
    "plt.close()"
   ]
  },
  {
   "cell_type": "code",
   "execution_count": 9,
   "metadata": {},
   "outputs": [
    {
     "data": {
      "image/png": "[encoded data removed]",
      "text/plain": [
       "<matplotlib.figure.Figure at 0x7fd09aa4e090>"
      ]
     },
     "metadata": {},
     "output_type": "display_data"
    },
    {
     "name": "stdout",
     "output_type": "stream",
     "text": [
      "Average Eigen vector centrality= 0.00144747087879\n",
      "Writing 'ecen' (dict) to file 'Results/enron/eigenCen.txt'.\n",
      "CPU times: user 47.8 s, sys: 448 ms, total: 48.2 s\n",
      "Wall time: 47.5 s\n"
     ]
    }
   ],
   "source": [
    "%%time\n",
    "#Eigen Vector centrality distribution for whole network\n",
    "\n",
    "ecen=nx.eigenvector_centrality(og)\n",
    "ecen_values = sorted(set(ecen.values()))\n",
    "ecen_hist = [ecen.values().count(x) for x in ecen_values]\n",
    "plt.figure()\n",
    "plt.grid(True)\n",
    "plt.plot(ecen_values, ecen_hist,'ro-')\n",
    "plt.xlabel('Eigen Vectro Centrality')\n",
    "plt.ylabel('Number of nodes')\n",
    "plt.title('Enron-email Network EigenVector Centrality distribution')\n",
    "plt.xlim([0, max(ecen.values())])\n",
    "plt.show()\n",
    "plt.close()\n",
    "print \"Average Eigen vector centrality=\",mean(ecen.values())\n",
    "%store ecen >Results/enron/eigenCen.txt"
   ]
  },
  {
   "cell_type": "markdown",
   "metadata": {},
   "source": [
    "## 'citNet'- Citation network analysis"
   ]
  },
  {
   "cell_type": "code",
   "execution_count": 4,
   "metadata": {},
   "outputs": [
    {
     "name": "stdout",
     "output_type": "stream",
     "text": [
      "CPU times: user 13 s, sys: 6.74 s, total: 19.7 s\n",
      "Wall time: 12min 37s\n"
     ]
    }
   ],
   "source": [
    "%%time\n",
    "# download the network file\n",
    "import urllib\n",
    "urllib.urlretrieve(\"http://snap.stanford.edu/data/cit-HepTh.txt.gz\", \"data/cit-HepTh.txt.gz\")\n",
    "urllib.urlretrieve(\"http://snap.stanford.edu/data/cit-HepTh-dates.txt.gz\", \"data/cit-HepTh-dates.txt.gz\")\n",
    "urllib.urlretrieve(\"http://snap.stanford.edu/data/cit-HepTh-abstracts.tar.gz\", \"data/cit-HepTh-abstracts.tar.gz\")\n",
    "\n",
    "# uncompress .txt.gz to .txt\n",
    "import gzip\n",
    "inF = gzip.GzipFile(\"data/cit-HepTh.txt.gz\", 'rb')\n",
    "s = inF.read()\n",
    "inF.close()\n",
    "\n",
    "outF = file(\"data/cit-HepTh.txt\", 'wb')\n",
    "outF.write(s)\n",
    "outF.close()\n",
    "\n",
    "# uncompress cit-HepTh-abstracts.tar.gz\n",
    "import tarfile\n",
    "tarfile.open(\"data/cit-HepTh-abstracts.tar.gz\").extractall(\"data/cit-HepTh-abstracts\")"
   ]
  },
  {
   "cell_type": "code",
   "execution_count": 3,
   "metadata": {},
   "outputs": [
    {
     "name": "stdout",
     "output_type": "stream",
     "text": [
      "Name: \n",
      "Type: DiGraph\n",
      "Number of nodes: 27770\n",
      "Number of edges: 352807\n",
      "Average in degree:  12.7046\n",
      "Average out degree:  12.7046\n",
      "CPU times: user 2.5 s, sys: 92 ms, total: 2.59 s\n",
      "Wall time: 2.57 s\n"
     ]
    }
   ],
   "source": [
    "%%time\n",
    "# load the network\n",
    "file_name = \"data/cit-HepTh.txt\"\n",
    "# it's a directed graph, so we should use nx.DiGraph to read\n",
    "g1 = nx.read_edgelist(file_name, create_using=nx.DiGraph(), nodetype=int)\n",
    "print nx.info(g1)"
   ]
  },
  {
   "cell_type": "code",
   "execution_count": 4,
   "metadata": {},
   "outputs": [
    {
     "name": "stdout",
     "output_type": "stream",
     "text": [
      "\n",
      "Computing betweenness centrality for:\n",
      "Name: \n",
      "Type: DiGraph\n",
      "Number of nodes: 27770\n",
      "Number of edges: 352807\n",
      "Average in degree:  12.7046\n",
      "Average out degree:  12.7046\n",
      "\tParallel version\n",
      "\t\tTime: 1424.9414\n"
     ]
    },
    {
     "ename": "KeyError",
     "evalue": "0",
     "output_type": "error",
     "traceback": [
      "\u001b[0;31m\u001b[0m",
      "\u001b[0;31mKeyError\u001b[0mTraceback (most recent call last)",
      "\u001b[0;32m<ipython-input-4-f81e2159f61e>\u001b[0m in \u001b[0;36m<module>\u001b[0;34m()\u001b[0m\n\u001b[0;32m----> 1\u001b[0;31m \u001b[0mget_ipython\u001b[0m\u001b[0;34m(\u001b[0m\u001b[0;34m)\u001b[0m\u001b[0;34m.\u001b[0m\u001b[0mrun_cell_magic\u001b[0m\u001b[0;34m(\u001b[0m\u001b[0;34mu'time'\u001b[0m\u001b[0;34m,\u001b[0m \u001b[0;34mu''\u001b[0m\u001b[0;34m,\u001b[0m \u001b[0;34mu'from multiprocessing import Pool\\nimport time\\nimport itertools\\n\\nG=g1\\n\\ndef chunks(l, n):\\n    \"\"\"Divide a list of nodes `l` in `n` chunks\"\"\"\\n    l_c = iter(l)\\n    while 1:\\n        x = tuple(itertools.islice(l_c, n))\\n        if not x:\\n            return\\n        yield x\\n\\n\\ndef _betmap(G_normalized_weight_sources_tuple):\\n    \"\"\"Pool for multiprocess only accepts functions with one argument.\\n    This function uses a tuple as its only argument. We use a named tuple for\\n    python 3 compatibility, and then unpack it when we send it to\\n    `betweenness_centrality_source`\\n    \"\"\"\\n    return nx.betweenness_centrality_subset(*G_normalized_weight_sources_tuple)\\n\\n\\ndef betweenness_centrality_parallel(G, processes=4):\\n    \"\"\"Parallel betweenness centrality  function\"\"\"\\n    p = Pool(processes=processes)\\n    node_divisor = len(p._pool)*4\\n    node_chunks = list(chunks(G.nodes(), int(G.order()/node_divisor)))\\n    #print node_chunks\\n    num_chunks = len(node_chunks)\\n\\n    \\n    bt_sc = p.map(_betmap,\\n                  zip([G]*num_chunks,\\n                      node_chunks,\\n                      [list(G)]*num_chunks,\\n                      [True]*num_chunks,\\n                      [None]*num_chunks))\\n    \\n    \\n    #print bt_sc\\n\\n    # Reduce the partial solutions\\n    bt_c = bt_sc[0]\\n    for bt in bt_sc[1:]:\\n        for n in bt:\\n            bt_c[n] += bt[n]\\n    return bt_c\\n\\nprint(\"\")\\nprint(\"Computing betweenness centrality for:\")\\nprint(nx.info(G))\\nprint(\"\\\\tParallel version\")\\nstart = time.time()\\n#G = graph_max\\n#node_chunks = list(chunks(G.nodes(), int(G.order()/4)))\\n#G = graph_max\\n#print \"SOURCE:\", nx.betweenness_centrality_source(graph_max,True,False,list([1,2]))\\n#bt = nx.betweenness_centrality_subset(G,[0],list(G),True,None)\\nbt = betweenness_centrality_parallel(G)\\n#bt = nx.betweenness_centrality(graph_max)\\nprint(\"\\\\t\\\\tTime: %.4F\" % (time.time()-start))\\nprint(\"\\\\t\\\\tBetweenness centrality for node 0: %.5f\" % (bt[0]))\\n\\n#print(\"\\\\tNon-Parallel version\")\\n#start = time.time()\\n#bt = nx.betweenness_centrality(G)\\n#print(\"\\\\t\\\\tTime: %.4F seconds\" % (time.time()-start))\\n#print(\"\\\\t\\\\tBetweenness centrality for node 0: %.5f\" % (bt[0]))\\n\\nprint(\"\")\\n\\n%store bt >Results/citation/betCen.txt'\u001b[0m\u001b[0;34m)\u001b[0m\u001b[0;34m\u001b[0m\u001b[0m\n\u001b[0m",
      "\u001b[0;32m/opt/conda/envs/python2/lib/python2.7/site-packages/IPython/core/interactiveshell.pyc\u001b[0m in \u001b[0;36mrun_cell_magic\u001b[0;34m(self, magic_name, line, cell)\u001b[0m\n\u001b[1;32m   2113\u001b[0m             \u001b[0mmagic_arg_s\u001b[0m \u001b[0;34m=\u001b[0m \u001b[0mself\u001b[0m\u001b[0;34m.\u001b[0m\u001b[0mvar_expand\u001b[0m\u001b[0;34m(\u001b[0m\u001b[0mline\u001b[0m\u001b[0;34m,\u001b[0m \u001b[0mstack_depth\u001b[0m\u001b[0;34m)\u001b[0m\u001b[0;34m\u001b[0m\u001b[0m\n\u001b[1;32m   2114\u001b[0m             \u001b[0;32mwith\u001b[0m \u001b[0mself\u001b[0m\u001b[0;34m.\u001b[0m\u001b[0mbuiltin_trap\u001b[0m\u001b[0;34m:\u001b[0m\u001b[0;34m\u001b[0m\u001b[0m\n\u001b[0;32m-> 2115\u001b[0;31m                 \u001b[0mresult\u001b[0m \u001b[0;34m=\u001b[0m \u001b[0mfn\u001b[0m\u001b[0;34m(\u001b[0m\u001b[0mmagic_arg_s\u001b[0m\u001b[0;34m,\u001b[0m \u001b[0mcell\u001b[0m\u001b[0;34m)\u001b[0m\u001b[0;34m\u001b[0m\u001b[0m\n\u001b[0m\u001b[1;32m   2116\u001b[0m             \u001b[0;32mreturn\u001b[0m \u001b[0mresult\u001b[0m\u001b[0;34m\u001b[0m\u001b[0m\n\u001b[1;32m   2117\u001b[0m \u001b[0;34m\u001b[0m\u001b[0m\n",
      "\u001b[0;32m<decorator-gen-59>\u001b[0m in \u001b[0;36mtime\u001b[0;34m(self, line, cell, local_ns)\u001b[0m\n",
      "\u001b[0;32m/opt/conda/envs/python2/lib/python2.7/site-packages/IPython/core/magic.pyc\u001b[0m in \u001b[0;36m<lambda>\u001b[0;34m(f, *a, **k)\u001b[0m\n\u001b[1;32m    186\u001b[0m     \u001b[0;31m# but it's overkill for just that one bit of state.\u001b[0m\u001b[0;34m\u001b[0m\u001b[0;34m\u001b[0m\u001b[0m\n\u001b[1;32m    187\u001b[0m     \u001b[0;32mdef\u001b[0m \u001b[0mmagic_deco\u001b[0m\u001b[0;34m(\u001b[0m\u001b[0marg\u001b[0m\u001b[0;34m)\u001b[0m\u001b[0;34m:\u001b[0m\u001b[0;34m\u001b[0m\u001b[0m\n\u001b[0;32m--> 188\u001b[0;31m         \u001b[0mcall\u001b[0m \u001b[0;34m=\u001b[0m \u001b[0;32mlambda\u001b[0m \u001b[0mf\u001b[0m\u001b[0;34m,\u001b[0m \u001b[0;34m*\u001b[0m\u001b[0ma\u001b[0m\u001b[0;34m,\u001b[0m \u001b[0;34m**\u001b[0m\u001b[0mk\u001b[0m\u001b[0;34m:\u001b[0m \u001b[0mf\u001b[0m\u001b[0;34m(\u001b[0m\u001b[0;34m*\u001b[0m\u001b[0ma\u001b[0m\u001b[0;34m,\u001b[0m \u001b[0;34m**\u001b[0m\u001b[0mk\u001b[0m\u001b[0;34m)\u001b[0m\u001b[0;34m\u001b[0m\u001b[0m\n\u001b[0m\u001b[1;32m    189\u001b[0m \u001b[0;34m\u001b[0m\u001b[0m\n\u001b[1;32m    190\u001b[0m         \u001b[0;32mif\u001b[0m \u001b[0mcallable\u001b[0m\u001b[0;34m(\u001b[0m\u001b[0marg\u001b[0m\u001b[0;34m)\u001b[0m\u001b[0;34m:\u001b[0m\u001b[0;34m\u001b[0m\u001b[0m\n",
      "\u001b[0;32m/opt/conda/envs/python2/lib/python2.7/site-packages/IPython/core/magics/execution.pyc\u001b[0m in \u001b[0;36mtime\u001b[0;34m(self, line, cell, local_ns)\u001b[0m\n\u001b[1;32m   1183\u001b[0m         \u001b[0;32melse\u001b[0m\u001b[0;34m:\u001b[0m\u001b[0;34m\u001b[0m\u001b[0m\n\u001b[1;32m   1184\u001b[0m             \u001b[0mst\u001b[0m \u001b[0;34m=\u001b[0m \u001b[0mclock2\u001b[0m\u001b[0;34m(\u001b[0m\u001b[0;34m)\u001b[0m\u001b[0;34m\u001b[0m\u001b[0m\n\u001b[0;32m-> 1185\u001b[0;31m             \u001b[0;32mexec\u001b[0m\u001b[0;34m(\u001b[0m\u001b[0mcode\u001b[0m\u001b[0;34m,\u001b[0m \u001b[0mglob\u001b[0m\u001b[0;34m,\u001b[0m \u001b[0mlocal_ns\u001b[0m\u001b[0;34m)\u001b[0m\u001b[0;34m\u001b[0m\u001b[0m\n\u001b[0m\u001b[1;32m   1186\u001b[0m             \u001b[0mend\u001b[0m \u001b[0;34m=\u001b[0m \u001b[0mclock2\u001b[0m\u001b[0;34m(\u001b[0m\u001b[0;34m)\u001b[0m\u001b[0;34m\u001b[0m\u001b[0m\n\u001b[1;32m   1187\u001b[0m             \u001b[0mout\u001b[0m \u001b[0;34m=\u001b[0m \u001b[0mNone\u001b[0m\u001b[0;34m\u001b[0m\u001b[0m\n",
      "\u001b[0;32m<timed exec>\u001b[0m in \u001b[0;36m<module>\u001b[0;34m()\u001b[0m\n",
      "\u001b[0;31mKeyError\u001b[0m: 0"
     ]
    }
   ],
   "source": [
    "%%time\n",
    "from multiprocessing import Pool\n",
    "import time\n",
    "import itertools\n",
    "\n",
    "G=g1\n",
    "\n",
    "def chunks(l, n):\n",
    "    \"\"\"Divide a list of nodes `l` in `n` chunks\"\"\"\n",
    "    l_c = iter(l)\n",
    "    while 1:\n",
    "        x = tuple(itertools.islice(l_c, n))\n",
    "        if not x:\n",
    "            return\n",
    "        yield x\n",
    "\n",
    "\n",
    "def _betmap(G_normalized_weight_sources_tuple):\n",
    "    \"\"\"Pool for multiprocess only accepts functions with one argument.\n",
    "    This function uses a tuple as its only argument. We use a named tuple for\n",
    "    python 3 compatibility, and then unpack it when we send it to\n",
    "    `betweenness_centrality_source`\n",
    "    \"\"\"\n",
    "    return nx.betweenness_centrality_subset(*G_normalized_weight_sources_tuple)\n",
    "\n",
    "\n",
    "def betweenness_centrality_parallel(G, processes=4):\n",
    "    \"\"\"Parallel betweenness centrality  function\"\"\"\n",
    "    p = Pool(processes=processes)\n",
    "    node_divisor = len(p._pool)*4\n",
    "    node_chunks = list(chunks(G.nodes(), int(G.order()/node_divisor)))\n",
    "    #print node_chunks\n",
    "    num_chunks = len(node_chunks)\n",
    "\n",
    "    \n",
    "    bt_sc = p.map(_betmap,\n",
    "                  zip([G]*num_chunks,\n",
    "                      node_chunks,\n",
    "                      [list(G)]*num_chunks,\n",
    "                      [True]*num_chunks,\n",
    "                      [None]*num_chunks))\n",
    "    \n",
    "    \n",
    "    #print bt_sc\n",
    "\n",
    "    # Reduce the partial solutions\n",
    "    bt_c = bt_sc[0]\n",
    "    for bt in bt_sc[1:]:\n",
    "        for n in bt:\n",
    "            bt_c[n] += bt[n]\n",
    "    return bt_c\n",
    "\n",
    "print(\"\")\n",
    "print(\"Computing betweenness centrality for:\")\n",
    "print(nx.info(G))\n",
    "print(\"\\tParallel version\")\n",
    "start = time.time()\n",
    "#G = graph_max\n",
    "#node_chunks = list(chunks(G.nodes(), int(G.order()/4)))\n",
    "#G = graph_max\n",
    "#print \"SOURCE:\", nx.betweenness_centrality_source(graph_max,True,False,list([1,2]))\n",
    "#bt = nx.betweenness_centrality_subset(G,[0],list(G),True,None)\n",
    "bt = betweenness_centrality_parallel(G)\n",
    "#bt = nx.betweenness_centrality(graph_max)\n",
    "print(\"\\t\\tTime: %.4F\" % (time.time()-start))\n",
    "print(\"\\t\\tBetweenness centrality for node 0: %.5f\" % (bt[0]))\n",
    "\n",
    "#print(\"\\tNon-Parallel version\")\n",
    "#start = time.time()\n",
    "#bt = nx.betweenness_centrality(G)\n",
    "#print(\"\\t\\tTime: %.4F seconds\" % (time.time()-start))\n",
    "#print(\"\\t\\tBetweenness centrality for node 0: %.5f\" % (bt[0]))\n",
    "\n",
    "print(\"\")\n",
    "\n",
    "%store bt >Results/citation/betCen.txt"
   ]
  },
  {
   "cell_type": "code",
   "execution_count": null,
   "metadata": {
    "collapsed": true
   },
   "outputs": [],
   "source": [
    "# degrees of nodes, degree = in_degree + out_degree\n",
    "deg = g1.degree()\n",
    "deg_in = g1.in_degree()\n",
    "deg_out = g1.out_degree()\n",
    "# average degree\n",
    "avg_deg = mean(deg.values())\n",
    "avg_deg_in = mean(deg_in.values())\n",
    "avg_deg_out = mean(deg_out.values())\n",
    "# sorted nodes by degrees in descending order\n",
    "degree_sequence_in = sorted(deg_in.values(), reverse=True)\n",
    "degree_sequence_out = sorted(deg_out.values(), reverse=True)\n",
    "# get the degree distribution\n",
    "import collections\n",
    "degree_count_in = collections.Counter(degree_sequence_in)\n",
    "degree_count_out = collections.Counter(degree_sequence_out)\n",
    "deg_in, cnt_in = zip(*degree_count_in.items())\n",
    "deg_out, cnt_out = zip(*degree_count_out.items())\n",
    "# degree distribution\n",
    "plt.loglog(deg_in, cnt_in, label=\"in_degree\", linestyle='None', marker='o', markeredgecolor='b', markerfacecolor='w')\n",
    "plt.loglog(deg_out, cnt_out, label=\"out_degree\", linestyle='None', marker='o', markeredgecolor='r', markerfacecolor='w')\n",
    "legend(fontsize='medium')\n",
    "plt.title(\"Degree Distribution\")\n",
    "plt.ylabel(\"number\")\n",
    "plt.xlabel(\"degree\")"
   ]
  },
  {
   "attachments": {
    "image.png": {
     "image/png": "[encoded data removed]"
    }
   },
   "cell_type": "markdown",
   "metadata": {},
   "source": [
    "![image.png](attachment:image.png)"
   ]
  },
  {
   "cell_type": "code",
   "execution_count": 4,
   "metadata": {},
   "outputs": [
    {
     "name": "stdout",
     "output_type": "stream",
     "text": [
      "Graph is not connected. So, finding the largest connected component of graph\n",
      "Properties of largest subgraph:\n",
      "Name: \n",
      "Type: Graph\n",
      "Number of nodes: 27400\n",
      "Number of edges: 352059\n",
      "Average degree:  25.6977\n",
      "CPU times: user 11.1 s, sys: 248 ms, total: 11.3 s\n",
      "Wall time: 11.2 s\n"
     ]
    }
   ],
   "source": [
    "%%time\n",
    "# check whether the network is connected, if not find the largest connected component of the network\n",
    "og=g1\n",
    "g=g1.to_undirected()\n",
    "connected=nx.is_connected(g)\n",
    "\n",
    "if connected is True:\n",
    "    print \"Graph is connected!\"\n",
    "    graph_max=g1\n",
    "else:\n",
    "    print \"Graph is not connected. So, finding the largest connected component of graph\"\n",
    "    print \"Properties of largest subgraph:\"\n",
    "    graphs = list(nx.connected_component_subgraphs(g, copy=True))\n",
    "    # the connected component with the most nodes\n",
    "    graph_max = sorted([(len(gn.nodes()), gn) for gn in graphs], key=lambda x: x[0], reverse=True)[0][1]\n",
    "    print nx.info(graph_max)\n",
    "g1=graph_max"
   ]
  },
  {
   "cell_type": "code",
   "execution_count": null,
   "metadata": {},
   "outputs": [
    {
     "name": "stdout",
     "output_type": "stream",
     "text": [
      "Average Shortest path length= 4.27868008396\n",
      "Writing 'aspl' (float) to file 'Results/citation/aspl.txt'.\n",
      "CPU times: user 2h 53min 9s, sys: 59.1 s, total: 2h 54min 8s\n",
      "Wall time: 2h 51min 39s\n"
     ]
    }
   ],
   "source": [
    "%%time\n",
    "#average shortest path length of Largest connected component\n",
    "aspl=nx.average_shortest_path_length(g1)\n",
    "print \"Average Shortest path length=\",aspl\n",
    "%store aspl >Results/citation/aspl.txt"
   ]
  },
  {
   "cell_type": "code",
   "execution_count": null,
   "metadata": {
    "collapsed": true
   },
   "outputs": [],
   "source": [
    "%%time\n",
    "diameter=nx.diameter(g1)\n",
    "print \"Network diameter=\",diameter\n",
    "%store diameter >Results/citation/diameter.txt"
   ]
  },
  {
   "cell_type": "code",
   "execution_count": 32,
   "metadata": {},
   "outputs": [
    {
     "data": {
      "image/png": "[encoded data removed]",
      "text/plain": [
       "<matplotlib.figure.Figure at 0x7f55b3c7b950>"
      ]
     },
     "metadata": {},
     "output_type": "display_data"
    },
    {
     "name": "stdout",
     "output_type": "stream",
     "text": [
      "Average degree centrality= 0.000915021015564\n",
      "Writing 'dc' (dict) to file 'Results/citation/degCen.txt'.\n",
      "CPU times: user 2.02 s, sys: 432 ms, total: 2.45 s\n",
      "Wall time: 2.08 s\n"
     ]
    }
   ],
   "source": [
    "%%time\n",
    "#degree centrality distribution and parsing into Gephi\n",
    "\n",
    "dc=nx.degree_centrality(og)\n",
    "for k in og.nodes():\n",
    "    og.node[k]['dc'] = dc[k]\n",
    "dc_values = sorted(set(dc.values()))\n",
    "dc_hist = [dc.values().count(x) for x in dc_values]\n",
    "plt.figure()\n",
    "plt.grid(True)\n",
    "plt.loglog(dc_values, dc_hist)\n",
    "plt.xlabel('Degree Centrality')\n",
    "plt.ylabel('Number of nodes')\n",
    "plt.title('Citation Network Degree Centrality distribution')\n",
    "plt.xlim([0, max(dc.values())])\n",
    "plt.show()\n",
    "plt.close()\n",
    "print \"Average degree centrality=\",mean(dc.values())\n",
    "%store dc >Results/citation/degCen.txt"
   ]
  },
  {
   "cell_type": "code",
   "execution_count": 34,
   "metadata": {},
   "outputs": [
    {
     "data": {
      "image/png": "[encoded data removed]",
      "text/plain": [
       "<matplotlib.figure.Figure at 0x7f55b3b65810>"
      ]
     },
     "metadata": {},
     "output_type": "display_data"
    },
    {
     "name": "stdout",
     "output_type": "stream",
     "text": [
      "Average Clusterng Coefficient= 0.312019495806\n",
      "Writing 'cc' (dict) to file 'Results/citation/clCoeff.txt'.\n",
      "CPU times: user 21.1 s, sys: 368 ms, total: 21.5 s\n",
      "Wall time: 21.1 s\n"
     ]
    }
   ],
   "source": [
    "%%time\n",
    "#clustering coefficient\n",
    "\n",
    "cc=nx.clustering(g)\n",
    "cc_values = sorted(set(cc.values()))\n",
    "cc_hist = [cc.values().count(x) for x in cc_values]\n",
    "plt.figure()\n",
    "plt.grid(True)\n",
    "plt.plot(cc_values, cc_hist)\n",
    "plt.xlabel('Clustering Coefficient')\n",
    "plt.ylabel('Number of nodes')\n",
    "plt.title('Citation Network Clustering Coefficient distribution')\n",
    "plt.xlim([0, 1])\n",
    "plt.show()\n",
    "plt.close()\n",
    "print \"Average Clusterng Coefficient=\",mean(cc.values())\n",
    "%store cc >Results/citation/clCoeff.txt"
   ]
  },
  {
   "cell_type": "code",
   "execution_count": null,
   "metadata": {
    "collapsed": true
   },
   "outputs": [],
   "source": [
    "%%time\n",
    "#Betweenness centrality distribution and parsing into Gephi\n",
    "\n",
    "bcen=nx.betweenness_centrality(og)\n",
    "for k in og.nodes():\n",
    "    og.node[k]['bcen'] = bcen[k]\n",
    "bcen_values = sorted(set(bcen.values()))\n",
    "bcen_hist = [bcen.values().count(x) for x in bcen_values]\n",
    "plt.figure()\n",
    "plt.grid(True)\n",
    "plt.plot(bcen_values, bcen_hist, 'ro-')\n",
    "plt.xlabel('Betweenness Centrality')\n",
    "plt.ylabel('Number of nodes')\n",
    "plt.title('Citation network Betweenness Centrality distribution')\n",
    "plt.xlim([0, max(bcen.values())])\n",
    "plt.show()\n",
    "plt.close()\n",
    "print \"Average betweenness centrality=\",mean(bcen.values())\n",
    "%store bcen >Results/citation/betCen.txt"
   ]
  },
  {
   "cell_type": "code",
   "execution_count": 5,
   "metadata": {},
   "outputs": [
    {
     "data": {
      "image/png": "[encoded data removed]",
      "text/plain": [
       "<matplotlib.figure.Figure at 0x7f21c865bfd0>"
      ]
     },
     "metadata": {},
     "output_type": "display_data"
    },
    {
     "name": "stdout",
     "output_type": "stream",
     "text": [
      "Average Eigen vector centrality= 0.000509461622132\n",
      "Writing 'ecen' (dict) to file 'Results/citation/eigenCen.txt'.\n",
      "CPU times: user 1min, sys: 456 ms, total: 1min 1s\n",
      "Wall time: 1min\n"
     ]
    }
   ],
   "source": [
    "%%time\n",
    "#Eigen Vector centrality distribution for whole network\n",
    "\n",
    "ecen=nx.eigenvector_centrality(og)\n",
    "ecen_values = sorted(set(ecen.values()))\n",
    "ecen_hist = [ecen.values().count(x) for x in ecen_values]\n",
    "plt.figure()\n",
    "plt.grid(True)\n",
    "plt.plot(ecen_values, ecen_hist,'ro-')\n",
    "plt.xlabel('Eigen Vectro Centrality')\n",
    "plt.ylabel('Number of nodes')\n",
    "plt.title('Citation Network EigenVector Centrality distribution')\n",
    "plt.xlim([0, max(ecen.values())])\n",
    "plt.show()\n",
    "plt.close()\n",
    "print \"Average Eigen vector centrality=\",mean(ecen.values())\n",
    "%store ecen >Results/citation/eigenCen.txt"
   ]
  },
  {
   "cell_type": "markdown",
   "metadata": {},
   "source": [
    "## Erdos Network- Collaboration Network analysis"
   ]
  },
  {
   "cell_type": "code",
   "execution_count": 9,
   "metadata": {},
   "outputs": [
    {
     "name": "stdout",
     "output_type": "stream",
     "text": [
      "Name: \n",
      "Type: Graph\n",
      "Number of nodes: 11524\n",
      "Number of edges: 18504\n",
      "Average degree:   3.2114\n",
      "CPU times: user 156 ms, sys: 4 ms, total: 160 ms\n",
      "Wall time: 165 ms\n"
     ]
    }
   ],
   "source": [
    "%%time\n",
    "# build Collaboration Network\n",
    "# undirected network\n",
    "g1 = nx.Graph()\n",
    "\n",
    "# add Paul Erdos into our network at first\n",
    "dict_authors = {}\n",
    "dict_authors['Paul Erdos'] = 0\n",
    "g1.add_node(0)\n",
    "g1.node[0]['author'] = 'Paul Erdos'\n",
    "\n",
    "# add the authors with Erdos number 1 and 2 from file\n",
    "line_count = 1\n",
    "skip_line = 24\n",
    "skip_space = 1\n",
    "\n",
    "is_new = False\n",
    "author = \"\"\n",
    "coauthor = \"\"\n",
    "index = 1\n",
    "ind_author = 1\n",
    "ind_coauthor = 1\n",
    "\n",
    "def parseLine(l, start):\n",
    "    end = start\n",
    "    while end < len(l) - 1 and not (l[end] == ' ' and l[end + 1] == ' '):\n",
    "        end += 1\n",
    "    return l[start:end]\n",
    "\n",
    "def addAuthor(auth, ind):\n",
    "    if auth in dict_authors:\n",
    "        return ind\n",
    "    dict_authors[auth] = ind\n",
    "    return ind + 1\n",
    "\n",
    "for l in open(\"data/Erdos1.html\"):    \n",
    "    if line_count >= skip_line:\n",
    "        if l == '\\n':\n",
    "            is_new = True\n",
    "        elif is_new:\n",
    "            author = parseLine(l, 0)\n",
    "            index = addAuthor(author, index)\n",
    "            ind_author = dict_authors[author]\n",
    "            g1.add_edge(0, ind_author)\n",
    "            g1.node[ind_author]['author'] = author\n",
    "            is_new = False\n",
    "        elif l == '</pre>':\n",
    "            break\n",
    "        else:\n",
    "            coauthor = parseLine(l, skip_space)\n",
    "            index = addAuthor(coauthor, index)\n",
    "            ind_coauthor = dict_authors[coauthor]\n",
    "            g1.add_edge(ind_author, ind_coauthor)\n",
    "            g1.node[ind_coauthor]['author'] = coauthor\n",
    "    line_count += 1\n",
    "\n",
    "print nx.info(g1)"
   ]
  },
  {
   "cell_type": "code",
   "execution_count": 10,
   "metadata": {},
   "outputs": [
    {
     "name": "stdout",
     "output_type": "stream",
     "text": [
      "Graph is connected!\n",
      "CPU times: user 32 ms, sys: 16 ms, total: 48 ms\n",
      "Wall time: 29.5 ms\n"
     ]
    }
   ],
   "source": [
    "%%time\n",
    "# check whether the network is connected, if not find the largest connected component of the network\n",
    "connected=nx.is_connected(g1)\n",
    "og=g1\n",
    "\n",
    "if connected is True:\n",
    "    print \"Graph is connected!\"\n",
    "    graph_max=g1\n",
    "else:\n",
    "    print \"Graph is not connected. So, finding the largest connected component of graph\"\n",
    "    print \"Properties of largest subgraph:\"\n",
    "    graphs = list(nx.connected_component_subgraphs(g1, copy=True))\n",
    "    # the connected component with the most nodes\n",
    "    graph_max = sorted([(len(gn.nodes()), gn) for gn in graphs], key=lambda x: x[0], reverse=True)[0][1]\n",
    "    print nx.info(graph_max)\n",
    "g1=graph_max"
   ]
  },
  {
   "cell_type": "code",
   "execution_count": 11,
   "metadata": {},
   "outputs": [
    {
     "name": "stdout",
     "output_type": "stream",
     "text": [
      "Average Shortest path length= 3.82198743331\n",
      "Writing 'aspl' (float) to file 'Results/erdos/aspl.txt'.\n",
      "CPU times: user 32min 8s, sys: 29.8 s, total: 32min 38s\n",
      "Wall time: 32min 10s\n"
     ]
    }
   ],
   "source": [
    "%%time\n",
    "#average shortest path length of Largest connected component\n",
    "aspl=nx.average_shortest_path_length(g1)\n",
    "print \"Average Shortest path length=\",aspl\n",
    "%store aspl >Results/erdos/aspl.txt"
   ]
  },
  {
   "cell_type": "code",
   "execution_count": 12,
   "metadata": {},
   "outputs": [
    {
     "name": "stdout",
     "output_type": "stream",
     "text": [
      "Network diameter= 4\n",
      "Writing 'diameter' (int) to file 'Results/erdos/diameter.txt'.\n",
      "CPU times: user 33min 31s, sys: 39.5 s, total: 34min 10s\n",
      "Wall time: 33min 31s\n"
     ]
    }
   ],
   "source": [
    "%%time\n",
    "diameter=nx.diameter(g1)\n",
    "print \"Network diameter=\",diameter\n",
    "%store diameter >Results/erdos/diameter.txt"
   ]
  },
  {
   "cell_type": "code",
   "execution_count": 15,
   "metadata": {},
   "outputs": [
    {
     "data": {
      "image/png": "[encoded data removed]",
      "text/plain": [
       "<matplotlib.figure.Figure at 0x7f21c8670110>"
      ]
     },
     "metadata": {},
     "output_type": "display_data"
    },
    {
     "name": "stdout",
     "output_type": "stream",
     "text": [
      "Writing 'deg' (DegreeView) to file 'Results/erdos/degDist.txt'.\n",
      "Average degree= 3.21138493579\n",
      "CPU times: user 3.64 s, sys: 344 ms, total: 3.99 s\n",
      "Wall time: 3.54 s\n"
     ]
    }
   ],
   "source": [
    "%%time\n",
    "node=og.order()\n",
    "deg=og.degree()\n",
    "d=list(np.zeros((node), dtype=np.int))\n",
    "temp=list(np.zeros((node), dtype=np.int))\n",
    "for k in range (node):\n",
    "    d[k]= deg[k]\n",
    "for k in range (node):\n",
    "    temp[k]=k\n",
    "degList=dict(zip(temp,d))\n",
    "for k in g1.nodes():\n",
    "    og.node[k]['deg'] = deg[k]\n",
    "deg_values = sorted(set(degList.values()))\n",
    "deg_hist = [degList.values().count(x) for x in deg_values]\n",
    "plt.figure()\n",
    "plt.grid(True)\n",
    "plt.loglog(deg_values, deg_hist) #degree\n",
    "plt.xlabel('Degree')\n",
    "plt.ylabel('Number of nodes')\n",
    "plt.title('Erdos Network Degree Distribution')\n",
    "plt.xlim([0, max(degList.values())])\n",
    "plt.show()\n",
    "plt.close()\n",
    "%store deg >Results/erdos/degDist.txt\n",
    "print \"Average degree=\",mean(degList.values())"
   ]
  },
  {
   "cell_type": "code",
   "execution_count": 16,
   "metadata": {},
   "outputs": [
    {
     "data": {
      "image/png": "[encoded data removed]",
      "text/plain": [
       "<matplotlib.figure.Figure at 0x7f21ac027e90>"
      ]
     },
     "metadata": {},
     "output_type": "display_data"
    },
    {
     "name": "stdout",
     "output_type": "stream",
     "text": [
      "Average Clusterng Coefficient= 0.105869608197\n",
      "Writing 'cc' (dict) to file 'Results/erdos/clCoeff.txt'.\n",
      "CPU times: user 3.98 s, sys: 428 ms, total: 4.41 s\n",
      "Wall time: 3.95 s\n"
     ]
    }
   ],
   "source": [
    "%%time\n",
    "#clustering coefficient\n",
    "\n",
    "cc=nx.clustering(g1)\n",
    "cc_values = sorted(set(cc.values()))\n",
    "cc_hist = [cc.values().count(x) for x in cc_values]\n",
    "plt.figure()\n",
    "plt.grid(True)\n",
    "plt.plot(cc_values, cc_hist)\n",
    "plt.xlabel('Clustering Coefficient')\n",
    "plt.ylabel('Number of nodes')\n",
    "plt.title('Erdos Network Clustering Coefficient distribution')\n",
    "plt.xlim([0, 1])\n",
    "plt.show()\n",
    "plt.close()\n",
    "print \"Average Clusterng Coefficient=\",mean(cc.values())\n",
    "%store cc >Results/erdos/clCoeff.txt"
   ]
  },
  {
   "cell_type": "code",
   "execution_count": 19,
   "metadata": {},
   "outputs": [
    {
     "name": "stdout",
     "output_type": "stream",
     "text": [
      "\n",
      "Computing betweenness centrality for:\n",
      "Name: \n",
      "Type: Graph\n",
      "Number of nodes: 11524\n",
      "Number of edges: 18504\n",
      "Average degree:   3.2114\n",
      "\tParallel version\n",
      "\t\tTime: 313.6758\n",
      "\t\tBetweenness centrality for node 0: 0.75593\n",
      "\n",
      "Writing 'bt' (dict) to file 'Results/erdos/betCen.txt'.\n",
      "CPU times: user 2.13 s, sys: 0 ns, total: 2.13 s\n",
      "Wall time: 5min 13s\n"
     ]
    }
   ],
   "source": [
    "%%time\n",
    "from multiprocessing import Pool\n",
    "import time\n",
    "import itertools\n",
    "\n",
    "G=g1\n",
    "\n",
    "def chunks(l, n):\n",
    "    \"\"\"Divide a list of nodes `l` in `n` chunks\"\"\"\n",
    "    l_c = iter(l)\n",
    "    while 1:\n",
    "        x = tuple(itertools.islice(l_c, n))\n",
    "        if not x:\n",
    "            return\n",
    "        yield x\n",
    "\n",
    "\n",
    "def _betmap(G_normalized_weight_sources_tuple):\n",
    "    \"\"\"Pool for multiprocess only accepts functions with one argument.\n",
    "    This function uses a tuple as its only argument. We use a named tuple for\n",
    "    python 3 compatibility, and then unpack it when we send it to\n",
    "    `betweenness_centrality_source`\n",
    "    \"\"\"\n",
    "    return nx.betweenness_centrality_subset(*G_normalized_weight_sources_tuple)\n",
    "\n",
    "\n",
    "def betweenness_centrality_parallel(G, processes=4):\n",
    "    \"\"\"Parallel betweenness centrality  function\"\"\"\n",
    "    p = Pool(processes=processes)\n",
    "    node_divisor = len(p._pool)*4\n",
    "    node_chunks = list(chunks(G.nodes(), int(G.order()/node_divisor)))\n",
    "    #print node_chunks\n",
    "    num_chunks = len(node_chunks)\n",
    "\n",
    "    \n",
    "    bt_sc = p.map(_betmap,\n",
    "                  zip([G]*num_chunks,\n",
    "                      node_chunks,\n",
    "                      [list(G)]*num_chunks,\n",
    "                      [True]*num_chunks,\n",
    "                      [None]*num_chunks))\n",
    "    \n",
    "    \n",
    "    #print bt_sc\n",
    "\n",
    "    # Reduce the partial solutions\n",
    "    bt_c = bt_sc[0]\n",
    "    for bt in bt_sc[1:]:\n",
    "        for n in bt:\n",
    "            bt_c[n] += bt[n]\n",
    "    return bt_c\n",
    "\n",
    "print(\"\")\n",
    "print(\"Computing betweenness centrality for:\")\n",
    "print(nx.info(G))\n",
    "print(\"\\tParallel version\")\n",
    "start = time.time()\n",
    "#G = graph_max\n",
    "#node_chunks = list(chunks(G.nodes(), int(G.order()/4)))\n",
    "#G = graph_max\n",
    "#print \"SOURCE:\", nx.betweenness_centrality_source(graph_max,True,False,list([1,2]))\n",
    "#bt = nx.betweenness_centrality_subset(G,[0],list(G),True,None)\n",
    "bt = betweenness_centrality_parallel(G)\n",
    "#bt = nx.betweenness_centrality(graph_max)\n",
    "print(\"\\t\\tTime: %.4F\" % (time.time()-start))\n",
    "print(\"\\t\\tBetweenness centrality for node 0: %.5f\" % (bt[0]))\n",
    "\n",
    "#print(\"\\tNon-Parallel version\")\n",
    "#start = time.time()\n",
    "#bt = nx.betweenness_centrality(G)\n",
    "#print(\"\\t\\tTime: %.4F seconds\" % (time.time()-start))\n",
    "#print(\"\\t\\tBetweenness centrality for node 0: %.5f\" % (bt[0]))\n",
    "\n",
    "print(\"\")\n",
    "%store bt >Results/erdos/betCen.txt"
   ]
  },
  {
   "cell_type": "code",
   "execution_count": 21,
   "metadata": {},
   "outputs": [
    {
     "name": "stdout",
     "output_type": "stream",
     "text": [
      "Average betweenness centrality for erdos network= 0.000244921665797\n"
     ]
    }
   ],
   "source": [
    "print \"Average betweenness centrality for erdos network=\",mean(bt.values())"
   ]
  },
  {
   "cell_type": "markdown",
   "metadata": {},
   "source": [
    "### Repeat the above parts for all the other three networks."
   ]
  },
  {
   "cell_type": "markdown",
   "metadata": {},
   "source": [
    "## Task 2\n",
    "### In this task we will use Gephi to visualize the networks that you analyzed. In the previous task, you saved the graph in the graphml format such that each node has the degree and its betweenness centrality as its attribute. In this task you are going to use these attributes to have a better visualization of the graph. Follow these steps to find a nice and meaningfull visualization of the graphs:\n",
    "\n",
    "### Open Gephi-->> Open the '.gml' file of a network -->> Change 'Layout' of the graph to Force Atlas 2, etc. to have a better visualisation -->> In 'Appearance' window there are multiple options to change appearance of the nodes/ edges of the graph according to the various network properties like degree, clustering coefficient, modularity class, etc.-->> Change node size according to Degree distribution. -->> Save image file and include it in the following cell for each of the above networks.\n",
    "\n",
    "### Respond to following questions for Facebook and Enron-email dataset only.\n",
    "#### 1) Visualize network using Gephi using suitable layout, with node size as well as node label / Id proportional to the degree distribution of each node. Use 3 different colors to differentiate nodes with high, moderate and low degree distribution.\n",
    "#### 2) Repeat (1) with node size as well as node label / Id proportional to the betweenness centrality.\n",
    "#### 3) Analyze all the graphs and explain which of the nodes according to you are the most important node, as far as network structure is concerned. Why?"
   ]
  },
  {
   "cell_type": "code",
   "execution_count": null,
   "metadata": {
    "collapsed": true
   },
   "outputs": [],
   "source": []
  }
 ],
 "metadata": {
  "kernelspec": {
   "display_name": "Python 2",
   "language": "python",
   "name": "python2"
  },
  "language_info": {
   "codemirror_mode": {
    "name": "ipython",
    "version": 2
   },
   "file_extension": ".py",
   "mimetype": "text/x-python",
   "name": "python",
   "nbconvert_exporter": "python",
   "pygments_lexer": "ipython2",
   "version": "2.7.13"
  }
 },
 "nbformat": 4,
 "nbformat_minor": 2
}
